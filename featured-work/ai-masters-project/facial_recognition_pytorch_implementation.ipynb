{
  "cells": [
    {
      "cell_type": "code",
      "execution_count": null,
      "metadata": {
        "id": "c7VChZNXdIzq"
      },
      "outputs": [],
      "source": [
        "import multiprocessing as mp\n",
        "\n",
        "try:\n",
        "    mp.set_start_method('spawn')\n",
        "except RuntimeError:\n",
        "    pass  # Ignore the error if the context has already been set\n",
        "\n",
        "import torch\n",
        "from torch.utils import data\n",
        "from torch.utils.data import Dataset, DataLoader\n",
        "import pandas as pd\n",
        "from tqdm import tqdm\n",
        "import math\n",
        "from matplotlib import pyplot as plt\n",
        "import torch.nn.functional as F\n",
        "import torchvision.models as models\n",
        "from torch import nn\n",
        "import albumentations as A\n",
        "from albumentations.pytorch import ToTensorV2\n",
        "from PIL import Image\n",
        "import numpy as np\n",
        "from sklearn.metrics import confusion_matrix\n",
        "import matplotlib.pyplot as plt\n",
        "import seaborn as sns\n",
        "import plotly.graph_objects as go\n",
        "import torch.optim as optim\n",
        "import torch.nn as nn\n",
        "import torch.nn.functional as F"
      ]
    },
    {
      "cell_type": "code",
      "execution_count": null,
      "metadata": {
        "id": "SJSYB9Q9dIzr"
      },
      "outputs": [],
      "source": [
        "use_cuda = torch.cuda.is_available()\n",
        "device = torch.device(\"cuda\" if use_cuda else \"cpu\")"
      ]
    },
    {
      "cell_type": "code",
      "execution_count": null,
      "metadata": {
        "id": "4X14ByNHdIzr"
      },
      "outputs": [],
      "source": [
        "# Load the dataset\n",
        "url = 'https://cnn-caroline.s3.eu-west-1.amazonaws.com/icml_face_data.csv'\n",
        "df = pd.read_csv(url)\n"
      ]
    },
    {
      "cell_type": "code",
      "execution_count": null,
      "metadata": {
        "colab": {
          "base_uri": "https://localhost:8080/"
        },
        "id": "sFWxn7pMdWlg",
        "outputId": "058f835f-a713-4ff4-a729-0a0aa1b91367"
      },
      "outputs": [
        {
          "output_type": "stream",
          "name": "stdout",
          "text": [
            "emotion    0\n",
            " Usage     0\n",
            " pixels    0\n",
            "dtype: int64\n"
          ]
        }
      ],
      "source": [
        "# Check for any missing values in the dataset\n",
        "print(df.isnull().sum())\n"
      ]
    },
    {
      "cell_type": "code",
      "execution_count": null,
      "metadata": {
        "colab": {
          "base_uri": "https://localhost:8080/"
        },
        "id": "oBaKYpw8daAK",
        "outputId": "03db6265-5265-4d37-a1cf-cbe6074b4e88"
      },
      "outputs": [
        {
          "output_type": "stream",
          "name": "stdout",
          "text": [
            "Rows 35887\n",
            "Columns 3\n"
          ]
        }
      ],
      "source": [
        "# print number of ros and colums\n",
        "\n",
        "print (\"Rows\", len(df))\n",
        "print (\"Columns\", len(df.columns))"
      ]
    },
    {
      "cell_type": "code",
      "execution_count": null,
      "metadata": {
        "id": "0dJpKN37dshP"
      },
      "outputs": [],
      "source": [
        "#Strip out space before pixels\n",
        "df.columns = df.columns.str.strip()"
      ]
    },
    {
      "cell_type": "code",
      "execution_count": null,
      "metadata": {
        "colab": {
          "base_uri": "https://localhost:8080/"
        },
        "id": "43CVvZpldIzr",
        "outputId": "a02a831f-b494-427c-bde8-c7b447b8639f"
      },
      "outputs": [
        {
          "output_type": "execute_result",
          "data": {
            "text/plain": [
              "array(['Training', 'PublicTest', 'PrivateTest'], dtype=object)"
            ]
          },
          "metadata": {},
          "execution_count": 105
        }
      ],
      "source": [
        "#Check foro unique values\n",
        "df['Usage'].unique()"
      ]
    },
    {
      "cell_type": "code",
      "execution_count": null,
      "metadata": {
        "colab": {
          "base_uri": "https://localhost:8080/",
          "height": 300
        },
        "id": "GF9pNld7sm93",
        "outputId": "074a4de4-f1d5-464c-d4cb-9565d8e47eb3"
      },
      "outputs": [
        {
          "output_type": "execute_result",
          "data": {
            "text/plain": [
              "            emotion\n",
              "count  35887.000000\n",
              "mean       3.323265\n",
              "std        1.873819\n",
              "min        0.000000\n",
              "25%        2.000000\n",
              "50%        3.000000\n",
              "75%        5.000000\n",
              "max        6.000000"
            ],
            "text/html": [
              "\n",
              "  <div id=\"df-09d53bf1-3188-4fd7-80da-a2fe2b6152a1\" class=\"colab-df-container\">\n",
              "    <div>\n",
              "<style scoped>\n",
              "    .dataframe tbody tr th:only-of-type {\n",
              "        vertical-align: middle;\n",
              "    }\n",
              "\n",
              "    .dataframe tbody tr th {\n",
              "        vertical-align: top;\n",
              "    }\n",
              "\n",
              "    .dataframe thead th {\n",
              "        text-align: right;\n",
              "    }\n",
              "</style>\n",
              "<table border=\"1\" class=\"dataframe\">\n",
              "  <thead>\n",
              "    <tr style=\"text-align: right;\">\n",
              "      <th></th>\n",
              "      <th>emotion</th>\n",
              "    </tr>\n",
              "  </thead>\n",
              "  <tbody>\n",
              "    <tr>\n",
              "      <th>count</th>\n",
              "      <td>35887.000000</td>\n",
              "    </tr>\n",
              "    <tr>\n",
              "      <th>mean</th>\n",
              "      <td>3.323265</td>\n",
              "    </tr>\n",
              "    <tr>\n",
              "      <th>std</th>\n",
              "      <td>1.873819</td>\n",
              "    </tr>\n",
              "    <tr>\n",
              "      <th>min</th>\n",
              "      <td>0.000000</td>\n",
              "    </tr>\n",
              "    <tr>\n",
              "      <th>25%</th>\n",
              "      <td>2.000000</td>\n",
              "    </tr>\n",
              "    <tr>\n",
              "      <th>50%</th>\n",
              "      <td>3.000000</td>\n",
              "    </tr>\n",
              "    <tr>\n",
              "      <th>75%</th>\n",
              "      <td>5.000000</td>\n",
              "    </tr>\n",
              "    <tr>\n",
              "      <th>max</th>\n",
              "      <td>6.000000</td>\n",
              "    </tr>\n",
              "  </tbody>\n",
              "</table>\n",
              "</div>\n",
              "    <div class=\"colab-df-buttons\">\n",
              "\n",
              "  <div class=\"colab-df-container\">\n",
              "    <button class=\"colab-df-convert\" onclick=\"convertToInteractive('df-09d53bf1-3188-4fd7-80da-a2fe2b6152a1')\"\n",
              "            title=\"Convert this dataframe to an interactive table.\"\n",
              "            style=\"display:none;\">\n",
              "\n",
              "  <svg xmlns=\"http://www.w3.org/2000/svg\" height=\"24px\" viewBox=\"0 -960 960 960\">\n",
              "    <path d=\"M120-120v-720h720v720H120Zm60-500h600v-160H180v160Zm220 220h160v-160H400v160Zm0 220h160v-160H400v160ZM180-400h160v-160H180v160Zm440 0h160v-160H620v160ZM180-180h160v-160H180v160Zm440 0h160v-160H620v160Z\"/>\n",
              "  </svg>\n",
              "    </button>\n",
              "\n",
              "  <style>\n",
              "    .colab-df-container {\n",
              "      display:flex;\n",
              "      gap: 12px;\n",
              "    }\n",
              "\n",
              "    .colab-df-convert {\n",
              "      background-color: #E8F0FE;\n",
              "      border: none;\n",
              "      border-radius: 50%;\n",
              "      cursor: pointer;\n",
              "      display: none;\n",
              "      fill: #1967D2;\n",
              "      height: 32px;\n",
              "      padding: 0 0 0 0;\n",
              "      width: 32px;\n",
              "    }\n",
              "\n",
              "    .colab-df-convert:hover {\n",
              "      background-color: #E2EBFA;\n",
              "      box-shadow: 0px 1px 2px rgba(60, 64, 67, 0.3), 0px 1px 3px 1px rgba(60, 64, 67, 0.15);\n",
              "      fill: #174EA6;\n",
              "    }\n",
              "\n",
              "    .colab-df-buttons div {\n",
              "      margin-bottom: 4px;\n",
              "    }\n",
              "\n",
              "    [theme=dark] .colab-df-convert {\n",
              "      background-color: #3B4455;\n",
              "      fill: #D2E3FC;\n",
              "    }\n",
              "\n",
              "    [theme=dark] .colab-df-convert:hover {\n",
              "      background-color: #434B5C;\n",
              "      box-shadow: 0px 1px 3px 1px rgba(0, 0, 0, 0.15);\n",
              "      filter: drop-shadow(0px 1px 2px rgba(0, 0, 0, 0.3));\n",
              "      fill: #FFFFFF;\n",
              "    }\n",
              "  </style>\n",
              "\n",
              "    <script>\n",
              "      const buttonEl =\n",
              "        document.querySelector('#df-09d53bf1-3188-4fd7-80da-a2fe2b6152a1 button.colab-df-convert');\n",
              "      buttonEl.style.display =\n",
              "        google.colab.kernel.accessAllowed ? 'block' : 'none';\n",
              "\n",
              "      async function convertToInteractive(key) {\n",
              "        const element = document.querySelector('#df-09d53bf1-3188-4fd7-80da-a2fe2b6152a1');\n",
              "        const dataTable =\n",
              "          await google.colab.kernel.invokeFunction('convertToInteractive',\n",
              "                                                    [key], {});\n",
              "        if (!dataTable) return;\n",
              "\n",
              "        const docLinkHtml = 'Like what you see? Visit the ' +\n",
              "          '<a target=\"_blank\" href=https://colab.research.google.com/notebooks/data_table.ipynb>data table notebook</a>'\n",
              "          + ' to learn more about interactive tables.';\n",
              "        element.innerHTML = '';\n",
              "        dataTable['output_type'] = 'display_data';\n",
              "        await google.colab.output.renderOutput(dataTable, element);\n",
              "        const docLink = document.createElement('div');\n",
              "        docLink.innerHTML = docLinkHtml;\n",
              "        element.appendChild(docLink);\n",
              "      }\n",
              "    </script>\n",
              "  </div>\n",
              "\n",
              "\n",
              "<div id=\"df-6e3852b7-6ebb-454b-8471-56027d2aaf1a\">\n",
              "  <button class=\"colab-df-quickchart\" onclick=\"quickchart('df-6e3852b7-6ebb-454b-8471-56027d2aaf1a')\"\n",
              "            title=\"Suggest charts\"\n",
              "            style=\"display:none;\">\n",
              "\n",
              "<svg xmlns=\"http://www.w3.org/2000/svg\" height=\"24px\"viewBox=\"0 0 24 24\"\n",
              "     width=\"24px\">\n",
              "    <g>\n",
              "        <path d=\"M19 3H5c-1.1 0-2 .9-2 2v14c0 1.1.9 2 2 2h14c1.1 0 2-.9 2-2V5c0-1.1-.9-2-2-2zM9 17H7v-7h2v7zm4 0h-2V7h2v10zm4 0h-2v-4h2v4z\"/>\n",
              "    </g>\n",
              "</svg>\n",
              "  </button>\n",
              "\n",
              "<style>\n",
              "  .colab-df-quickchart {\n",
              "      --bg-color: #E8F0FE;\n",
              "      --fill-color: #1967D2;\n",
              "      --hover-bg-color: #E2EBFA;\n",
              "      --hover-fill-color: #174EA6;\n",
              "      --disabled-fill-color: #AAA;\n",
              "      --disabled-bg-color: #DDD;\n",
              "  }\n",
              "\n",
              "  [theme=dark] .colab-df-quickchart {\n",
              "      --bg-color: #3B4455;\n",
              "      --fill-color: #D2E3FC;\n",
              "      --hover-bg-color: #434B5C;\n",
              "      --hover-fill-color: #FFFFFF;\n",
              "      --disabled-bg-color: #3B4455;\n",
              "      --disabled-fill-color: #666;\n",
              "  }\n",
              "\n",
              "  .colab-df-quickchart {\n",
              "    background-color: var(--bg-color);\n",
              "    border: none;\n",
              "    border-radius: 50%;\n",
              "    cursor: pointer;\n",
              "    display: none;\n",
              "    fill: var(--fill-color);\n",
              "    height: 32px;\n",
              "    padding: 0;\n",
              "    width: 32px;\n",
              "  }\n",
              "\n",
              "  .colab-df-quickchart:hover {\n",
              "    background-color: var(--hover-bg-color);\n",
              "    box-shadow: 0 1px 2px rgba(60, 64, 67, 0.3), 0 1px 3px 1px rgba(60, 64, 67, 0.15);\n",
              "    fill: var(--button-hover-fill-color);\n",
              "  }\n",
              "\n",
              "  .colab-df-quickchart-complete:disabled,\n",
              "  .colab-df-quickchart-complete:disabled:hover {\n",
              "    background-color: var(--disabled-bg-color);\n",
              "    fill: var(--disabled-fill-color);\n",
              "    box-shadow: none;\n",
              "  }\n",
              "\n",
              "  .colab-df-spinner {\n",
              "    border: 2px solid var(--fill-color);\n",
              "    border-color: transparent;\n",
              "    border-bottom-color: var(--fill-color);\n",
              "    animation:\n",
              "      spin 1s steps(1) infinite;\n",
              "  }\n",
              "\n",
              "  @keyframes spin {\n",
              "    0% {\n",
              "      border-color: transparent;\n",
              "      border-bottom-color: var(--fill-color);\n",
              "      border-left-color: var(--fill-color);\n",
              "    }\n",
              "    20% {\n",
              "      border-color: transparent;\n",
              "      border-left-color: var(--fill-color);\n",
              "      border-top-color: var(--fill-color);\n",
              "    }\n",
              "    30% {\n",
              "      border-color: transparent;\n",
              "      border-left-color: var(--fill-color);\n",
              "      border-top-color: var(--fill-color);\n",
              "      border-right-color: var(--fill-color);\n",
              "    }\n",
              "    40% {\n",
              "      border-color: transparent;\n",
              "      border-right-color: var(--fill-color);\n",
              "      border-top-color: var(--fill-color);\n",
              "    }\n",
              "    60% {\n",
              "      border-color: transparent;\n",
              "      border-right-color: var(--fill-color);\n",
              "    }\n",
              "    80% {\n",
              "      border-color: transparent;\n",
              "      border-right-color: var(--fill-color);\n",
              "      border-bottom-color: var(--fill-color);\n",
              "    }\n",
              "    90% {\n",
              "      border-color: transparent;\n",
              "      border-bottom-color: var(--fill-color);\n",
              "    }\n",
              "  }\n",
              "</style>\n",
              "\n",
              "  <script>\n",
              "    async function quickchart(key) {\n",
              "      const quickchartButtonEl =\n",
              "        document.querySelector('#' + key + ' button');\n",
              "      quickchartButtonEl.disabled = true;  // To prevent multiple clicks.\n",
              "      quickchartButtonEl.classList.add('colab-df-spinner');\n",
              "      try {\n",
              "        const charts = await google.colab.kernel.invokeFunction(\n",
              "            'suggestCharts', [key], {});\n",
              "      } catch (error) {\n",
              "        console.error('Error during call to suggestCharts:', error);\n",
              "      }\n",
              "      quickchartButtonEl.classList.remove('colab-df-spinner');\n",
              "      quickchartButtonEl.classList.add('colab-df-quickchart-complete');\n",
              "    }\n",
              "    (() => {\n",
              "      let quickchartButtonEl =\n",
              "        document.querySelector('#df-6e3852b7-6ebb-454b-8471-56027d2aaf1a button');\n",
              "      quickchartButtonEl.style.display =\n",
              "        google.colab.kernel.accessAllowed ? 'block' : 'none';\n",
              "    })();\n",
              "  </script>\n",
              "</div>\n",
              "    </div>\n",
              "  </div>\n"
            ],
            "application/vnd.google.colaboratory.intrinsic+json": {
              "type": "dataframe",
              "summary": "{\n  \"name\": \"df\",\n  \"rows\": 8,\n  \"fields\": [\n    {\n      \"column\": \"emotion\",\n      \"properties\": {\n        \"dtype\": \"number\",\n        \"std\": 12686.900051021626,\n        \"min\": 0.0,\n        \"max\": 35887.0,\n        \"num_unique_values\": 8,\n        \"samples\": [\n          3.3232646919497313,\n          3.0,\n          35887.0\n        ],\n        \"semantic_type\": \"\",\n        \"description\": \"\"\n      }\n    }\n  ]\n}"
            }
          },
          "metadata": {},
          "execution_count": 106
        }
      ],
      "source": [
        "#describe the dataset\n",
        "df.describe()"
      ]
    },
    {
      "cell_type": "markdown",
      "metadata": {
        "id": "RX6_a_lcsq8j"
      },
      "source": [
        "##Visualize some images"
      ]
    },
    {
      "cell_type": "code",
      "execution_count": null,
      "metadata": {
        "colab": {
          "base_uri": "https://localhost:8080/",
          "height": 350
        },
        "id": "6eVu8_FDdfFZ",
        "outputId": "15749cdb-a5b0-4e10-d608-e8e04e1949c5"
      },
      "outputs": [
        {
          "output_type": "display_data",
          "data": {
            "text/plain": [
              "<Figure size 2000x400 with 5 Axes>"
            ],
            "image/png": "[encoded data removed]"
          },
          "metadata": {}
        }
      ],
      "source": [
        "#Load some imsages and inspect. They are in greyscale format!\n",
        "\n",
        "fig, axes = plt.subplots(1, 5, figsize=(20, 4))\n",
        "emotion_labels = ['Angry', 'Disgust', 'Fear', 'Happy', 'Sad', 'Surprise', 'Neutral']\n",
        "\n",
        "for i, ax in enumerate(axes):\n",
        "    # Convert the pixel string to an image array inline\n",
        "    pixel_values = df.loc[i, 'pixels'].split()\n",
        "    image_array = np.array(pixel_values, dtype=np.uint8).reshape(48, 48)\n",
        "\n",
        "    # Fetch the corresponding emotion label from the list\n",
        "    emotion = emotion_labels[df.loc[i, \"emotion\"]]\n",
        "\n",
        "    ax.imshow(image_array, cmap='gray')\n",
        "    ax.set_title(f'Emotion: {emotion}')\n",
        "\n",
        "plt.show()\n"
      ]
    },
    {
      "cell_type": "markdown",
      "metadata": {
        "id": "2UIdHWK5ss3k"
      },
      "source": [
        "#Analyse the distribution of classes (emotions) in the dataset.\n",
        "\n"
      ]
    },
    {
      "cell_type": "code",
      "execution_count": null,
      "metadata": {
        "colab": {
          "base_uri": "https://localhost:8080/",
          "height": 564
        },
        "id": "Yob1u1ccdj57",
        "outputId": "5e3555c8-421b-4d36-d07f-0c396c4a2b20"
      },
      "outputs": [
        {
          "output_type": "display_data",
          "data": {
            "text/plain": [
              "<Figure size 1000x600 with 1 Axes>"
            ],
            "image/png": "[encoded data removed]"
          },
          "metadata": {}
        }
      ],
      "source": [
        "# Analyze the distribution of classes\n",
        "emotion_counts = df['emotion'].value_counts().sort_index()\n",
        "\n",
        "plt.figure(figsize=(10, 6))\n",
        "plt.bar(emotion_labels, emotion_counts)\n",
        "plt.xlabel('Emotions')\n",
        "plt.ylabel('Number of samples')\n",
        "plt.title('Distribution of Emotions in the Dataset')\n",
        "plt.show()"
      ]
    },
    {
      "cell_type": "code",
      "execution_count": null,
      "metadata": {
        "colab": {
          "base_uri": "https://localhost:8080/"
        },
        "id": "vilP1jhFeXuC",
        "outputId": "3d22f8c5-0a1d-4a96-a73f-ee084e5214e0"
      },
      "outputs": [
        {
          "output_type": "stream",
          "name": "stdout",
          "text": [
            "emotion_name\n",
            "Happy       8989\n",
            "Neutral     6198\n",
            "Sad         6077\n",
            "Fear        5121\n",
            "Angry       4953\n",
            "Surprise    4002\n",
            "Disgust      547\n",
            "Name: count, dtype: int64\n"
          ]
        }
      ],
      "source": [
        "# Map the numeric labels to names\n",
        "df['emotion_name'] = df['emotion'].apply(lambda x: emotion_labels[x])\n",
        "\n",
        "# Count the occurrences of each emotion name\n",
        "emotion_counts = df['emotion_name'].value_counts()\n",
        "\n",
        "# Print the counts for each emotion\n",
        "print(emotion_counts)"
      ]
    },
    {
      "cell_type": "markdown",
      "metadata": {
        "id": "tqokvXhtdIzs"
      },
      "source": [
        "**Converting pixes values to int**"
      ]
    },
    {
      "cell_type": "code",
      "execution_count": null,
      "metadata": {
        "id": "lPYuUZuqdIzs"
      },
      "outputs": [],
      "source": [
        "df['pixels']=[[int(y) for y in x.split()] for x in df['pixels']]"
      ]
    },
    {
      "cell_type": "code",
      "execution_count": null,
      "metadata": {
        "colab": {
          "base_uri": "https://localhost:8080/"
        },
        "id": "9djU-WttdIzr",
        "outputId": "0944ed60-5e86-40ef-e31d-b72753ab3d92"
      },
      "outputs": [
        {
          "output_type": "stream",
          "name": "stdout",
          "text": [
            "28709\n",
            "3589\n",
            "3589\n"
          ]
        }
      ],
      "source": [
        "#Getting the quantity. Quite a lot of training data.\n",
        "print(len(df[df['Usage']=='Training']))\n",
        "print(len(df[df['Usage']=='PublicTest']))\n",
        "print(len(df[df['Usage']=='PrivateTest']))"
      ]
    },
    {
      "cell_type": "code",
      "execution_count": null,
      "metadata": {
        "colab": {
          "base_uri": "https://localhost:8080/",
          "height": 206
        },
        "id": "ca457xG2dIzs",
        "outputId": "a527399d-6ed1-4a4e-8906-34ee87265119"
      },
      "outputs": [
        {
          "output_type": "execute_result",
          "data": {
            "text/plain": [
              "   emotion     Usage                                             pixels  \\\n",
              "0        0  Training  [70, 80, 82, 72, 58, 58, 60, 63, 54, 58, 60, 4...   \n",
              "1        0  Training  [151, 150, 147, 155, 148, 133, 111, 140, 170, ...   \n",
              "2        2  Training  [231, 212, 156, 164, 174, 138, 161, 173, 182, ...   \n",
              "3        4  Training  [24, 32, 36, 30, 32, 23, 19, 20, 30, 41, 21, 2...   \n",
              "4        6  Training  [4, 0, 0, 0, 0, 0, 0, 0, 0, 0, 0, 0, 3, 15, 23...   \n",
              "\n",
              "  emotion_name  \n",
              "0        Angry  \n",
              "1        Angry  \n",
              "2         Fear  \n",
              "3          Sad  \n",
              "4      Neutral  "
            ],
            "text/html": [
              "\n",
              "  <div id=\"df-b89c4206-4c97-4381-bfe1-0262ff157a0e\" class=\"colab-df-container\">\n",
              "    <div>\n",
              "<style scoped>\n",
              "    .dataframe tbody tr th:only-of-type {\n",
              "        vertical-align: middle;\n",
              "    }\n",
              "\n",
              "    .dataframe tbody tr th {\n",
              "        vertical-align: top;\n",
              "    }\n",
              "\n",
              "    .dataframe thead th {\n",
              "        text-align: right;\n",
              "    }\n",
              "</style>\n",
              "<table border=\"1\" class=\"dataframe\">\n",
              "  <thead>\n",
              "    <tr style=\"text-align: right;\">\n",
              "      <th></th>\n",
              "      <th>emotion</th>\n",
              "      <th>Usage</th>\n",
              "      <th>pixels</th>\n",
              "      <th>emotion_name</th>\n",
              "    </tr>\n",
              "  </thead>\n",
              "  <tbody>\n",
              "    <tr>\n",
              "      <th>0</th>\n",
              "      <td>0</td>\n",
              "      <td>Training</td>\n",
              "      <td>[70, 80, 82, 72, 58, 58, 60, 63, 54, 58, 60, 4...</td>\n",
              "      <td>Angry</td>\n",
              "    </tr>\n",
              "    <tr>\n",
              "      <th>1</th>\n",
              "      <td>0</td>\n",
              "      <td>Training</td>\n",
              "      <td>[151, 150, 147, 155, 148, 133, 111, 140, 170, ...</td>\n",
              "      <td>Angry</td>\n",
              "    </tr>\n",
              "    <tr>\n",
              "      <th>2</th>\n",
              "      <td>2</td>\n",
              "      <td>Training</td>\n",
              "      <td>[231, 212, 156, 164, 174, 138, 161, 173, 182, ...</td>\n",
              "      <td>Fear</td>\n",
              "    </tr>\n",
              "    <tr>\n",
              "      <th>3</th>\n",
              "      <td>4</td>\n",
              "      <td>Training</td>\n",
              "      <td>[24, 32, 36, 30, 32, 23, 19, 20, 30, 41, 21, 2...</td>\n",
              "      <td>Sad</td>\n",
              "    </tr>\n",
              "    <tr>\n",
              "      <th>4</th>\n",
              "      <td>6</td>\n",
              "      <td>Training</td>\n",
              "      <td>[4, 0, 0, 0, 0, 0, 0, 0, 0, 0, 0, 0, 3, 15, 23...</td>\n",
              "      <td>Neutral</td>\n",
              "    </tr>\n",
              "  </tbody>\n",
              "</table>\n",
              "</div>\n",
              "    <div class=\"colab-df-buttons\">\n",
              "\n",
              "  <div class=\"colab-df-container\">\n",
              "    <button class=\"colab-df-convert\" onclick=\"convertToInteractive('df-b89c4206-4c97-4381-bfe1-0262ff157a0e')\"\n",
              "            title=\"Convert this dataframe to an interactive table.\"\n",
              "            style=\"display:none;\">\n",
              "\n",
              "  <svg xmlns=\"http://www.w3.org/2000/svg\" height=\"24px\" viewBox=\"0 -960 960 960\">\n",
              "    <path d=\"M120-120v-720h720v720H120Zm60-500h600v-160H180v160Zm220 220h160v-160H400v160Zm0 220h160v-160H400v160ZM180-400h160v-160H180v160Zm440 0h160v-160H620v160ZM180-180h160v-160H180v160Zm440 0h160v-160H620v160Z\"/>\n",
              "  </svg>\n",
              "    </button>\n",
              "\n",
              "  <style>\n",
              "    .colab-df-container {\n",
              "      display:flex;\n",
              "      gap: 12px;\n",
              "    }\n",
              "\n",
              "    .colab-df-convert {\n",
              "      background-color: #E8F0FE;\n",
              "      border: none;\n",
              "      border-radius: 50%;\n",
              "      cursor: pointer;\n",
              "      display: none;\n",
              "      fill: #1967D2;\n",
              "      height: 32px;\n",
              "      padding: 0 0 0 0;\n",
              "      width: 32px;\n",
              "    }\n",
              "\n",
              "    .colab-df-convert:hover {\n",
              "      background-color: #E2EBFA;\n",
              "      box-shadow: 0px 1px 2px rgba(60, 64, 67, 0.3), 0px 1px 3px 1px rgba(60, 64, 67, 0.15);\n",
              "      fill: #174EA6;\n",
              "    }\n",
              "\n",
              "    .colab-df-buttons div {\n",
              "      margin-bottom: 4px;\n",
              "    }\n",
              "\n",
              "    [theme=dark] .colab-df-convert {\n",
              "      background-color: #3B4455;\n",
              "      fill: #D2E3FC;\n",
              "    }\n",
              "\n",
              "    [theme=dark] .colab-df-convert:hover {\n",
              "      background-color: #434B5C;\n",
              "      box-shadow: 0px 1px 3px 1px rgba(0, 0, 0, 0.15);\n",
              "      filter: drop-shadow(0px 1px 2px rgba(0, 0, 0, 0.3));\n",
              "      fill: #FFFFFF;\n",
              "    }\n",
              "  </style>\n",
              "\n",
              "    <script>\n",
              "      const buttonEl =\n",
              "        document.querySelector('#df-b89c4206-4c97-4381-bfe1-0262ff157a0e button.colab-df-convert');\n",
              "      buttonEl.style.display =\n",
              "        google.colab.kernel.accessAllowed ? 'block' : 'none';\n",
              "\n",
              "      async function convertToInteractive(key) {\n",
              "        const element = document.querySelector('#df-b89c4206-4c97-4381-bfe1-0262ff157a0e');\n",
              "        const dataTable =\n",
              "          await google.colab.kernel.invokeFunction('convertToInteractive',\n",
              "                                                    [key], {});\n",
              "        if (!dataTable) return;\n",
              "\n",
              "        const docLinkHtml = 'Like what you see? Visit the ' +\n",
              "          '<a target=\"_blank\" href=https://colab.research.google.com/notebooks/data_table.ipynb>data table notebook</a>'\n",
              "          + ' to learn more about interactive tables.';\n",
              "        element.innerHTML = '';\n",
              "        dataTable['output_type'] = 'display_data';\n",
              "        await google.colab.output.renderOutput(dataTable, element);\n",
              "        const docLink = document.createElement('div');\n",
              "        docLink.innerHTML = docLinkHtml;\n",
              "        element.appendChild(docLink);\n",
              "      }\n",
              "    </script>\n",
              "  </div>\n",
              "\n",
              "\n",
              "<div id=\"df-87d94224-7e2f-4397-b1f7-7a5e629e4cc7\">\n",
              "  <button class=\"colab-df-quickchart\" onclick=\"quickchart('df-87d94224-7e2f-4397-b1f7-7a5e629e4cc7')\"\n",
              "            title=\"Suggest charts\"\n",
              "            style=\"display:none;\">\n",
              "\n",
              "<svg xmlns=\"http://www.w3.org/2000/svg\" height=\"24px\"viewBox=\"0 0 24 24\"\n",
              "     width=\"24px\">\n",
              "    <g>\n",
              "        <path d=\"M19 3H5c-1.1 0-2 .9-2 2v14c0 1.1.9 2 2 2h14c1.1 0 2-.9 2-2V5c0-1.1-.9-2-2-2zM9 17H7v-7h2v7zm4 0h-2V7h2v10zm4 0h-2v-4h2v4z\"/>\n",
              "    </g>\n",
              "</svg>\n",
              "  </button>\n",
              "\n",
              "<style>\n",
              "  .colab-df-quickchart {\n",
              "      --bg-color: #E8F0FE;\n",
              "      --fill-color: #1967D2;\n",
              "      --hover-bg-color: #E2EBFA;\n",
              "      --hover-fill-color: #174EA6;\n",
              "      --disabled-fill-color: #AAA;\n",
              "      --disabled-bg-color: #DDD;\n",
              "  }\n",
              "\n",
              "  [theme=dark] .colab-df-quickchart {\n",
              "      --bg-color: #3B4455;\n",
              "      --fill-color: #D2E3FC;\n",
              "      --hover-bg-color: #434B5C;\n",
              "      --hover-fill-color: #FFFFFF;\n",
              "      --disabled-bg-color: #3B4455;\n",
              "      --disabled-fill-color: #666;\n",
              "  }\n",
              "\n",
              "  .colab-df-quickchart {\n",
              "    background-color: var(--bg-color);\n",
              "    border: none;\n",
              "    border-radius: 50%;\n",
              "    cursor: pointer;\n",
              "    display: none;\n",
              "    fill: var(--fill-color);\n",
              "    height: 32px;\n",
              "    padding: 0;\n",
              "    width: 32px;\n",
              "  }\n",
              "\n",
              "  .colab-df-quickchart:hover {\n",
              "    background-color: var(--hover-bg-color);\n",
              "    box-shadow: 0 1px 2px rgba(60, 64, 67, 0.3), 0 1px 3px 1px rgba(60, 64, 67, 0.15);\n",
              "    fill: var(--button-hover-fill-color);\n",
              "  }\n",
              "\n",
              "  .colab-df-quickchart-complete:disabled,\n",
              "  .colab-df-quickchart-complete:disabled:hover {\n",
              "    background-color: var(--disabled-bg-color);\n",
              "    fill: var(--disabled-fill-color);\n",
              "    box-shadow: none;\n",
              "  }\n",
              "\n",
              "  .colab-df-spinner {\n",
              "    border: 2px solid var(--fill-color);\n",
              "    border-color: transparent;\n",
              "    border-bottom-color: var(--fill-color);\n",
              "    animation:\n",
              "      spin 1s steps(1) infinite;\n",
              "  }\n",
              "\n",
              "  @keyframes spin {\n",
              "    0% {\n",
              "      border-color: transparent;\n",
              "      border-bottom-color: var(--fill-color);\n",
              "      border-left-color: var(--fill-color);\n",
              "    }\n",
              "    20% {\n",
              "      border-color: transparent;\n",
              "      border-left-color: var(--fill-color);\n",
              "      border-top-color: var(--fill-color);\n",
              "    }\n",
              "    30% {\n",
              "      border-color: transparent;\n",
              "      border-left-color: var(--fill-color);\n",
              "      border-top-color: var(--fill-color);\n",
              "      border-right-color: var(--fill-color);\n",
              "    }\n",
              "    40% {\n",
              "      border-color: transparent;\n",
              "      border-right-color: var(--fill-color);\n",
              "      border-top-color: var(--fill-color);\n",
              "    }\n",
              "    60% {\n",
              "      border-color: transparent;\n",
              "      border-right-color: var(--fill-color);\n",
              "    }\n",
              "    80% {\n",
              "      border-color: transparent;\n",
              "      border-right-color: var(--fill-color);\n",
              "      border-bottom-color: var(--fill-color);\n",
              "    }\n",
              "    90% {\n",
              "      border-color: transparent;\n",
              "      border-bottom-color: var(--fill-color);\n",
              "    }\n",
              "  }\n",
              "</style>\n",
              "\n",
              "  <script>\n",
              "    async function quickchart(key) {\n",
              "      const quickchartButtonEl =\n",
              "        document.querySelector('#' + key + ' button');\n",
              "      quickchartButtonEl.disabled = true;  // To prevent multiple clicks.\n",
              "      quickchartButtonEl.classList.add('colab-df-spinner');\n",
              "      try {\n",
              "        const charts = await google.colab.kernel.invokeFunction(\n",
              "            'suggestCharts', [key], {});\n",
              "      } catch (error) {\n",
              "        console.error('Error during call to suggestCharts:', error);\n",
              "      }\n",
              "      quickchartButtonEl.classList.remove('colab-df-spinner');\n",
              "      quickchartButtonEl.classList.add('colab-df-quickchart-complete');\n",
              "    }\n",
              "    (() => {\n",
              "      let quickchartButtonEl =\n",
              "        document.querySelector('#df-87d94224-7e2f-4397-b1f7-7a5e629e4cc7 button');\n",
              "      quickchartButtonEl.style.display =\n",
              "        google.colab.kernel.accessAllowed ? 'block' : 'none';\n",
              "    })();\n",
              "  </script>\n",
              "</div>\n",
              "    </div>\n",
              "  </div>\n"
            ],
            "application/vnd.google.colaboratory.intrinsic+json": {
              "type": "dataframe",
              "variable_name": "df",
              "summary": "{\n  \"name\": \"df\",\n  \"rows\": 35887,\n  \"fields\": [\n    {\n      \"column\": \"emotion\",\n      \"properties\": {\n        \"dtype\": \"number\",\n        \"std\": 1,\n        \"min\": 0,\n        \"max\": 6,\n        \"num_unique_values\": 7,\n        \"samples\": [\n          0,\n          2,\n          5\n        ],\n        \"semantic_type\": \"\",\n        \"description\": \"\"\n      }\n    },\n    {\n      \"column\": \"Usage\",\n      \"properties\": {\n        \"dtype\": \"category\",\n        \"num_unique_values\": 3,\n        \"samples\": [\n          \"Training\",\n          \"PublicTest\",\n          \"PrivateTest\"\n        ],\n        \"semantic_type\": \"\",\n        \"description\": \"\"\n      }\n    },\n    {\n      \"column\": \"pixels\",\n      \"properties\": {\n        \"dtype\": \"object\",\n        \"semantic_type\": \"\",\n        \"description\": \"\"\n      }\n    },\n    {\n      \"column\": \"emotion_name\",\n      \"properties\": {\n        \"dtype\": \"category\",\n        \"num_unique_values\": 7,\n        \"samples\": [\n          \"Angry\",\n          \"Fear\",\n          \"Surprise\"\n        ],\n        \"semantic_type\": \"\",\n        \"description\": \"\"\n      }\n    }\n  ]\n}"
            }
          },
          "metadata": {},
          "execution_count": 112
        }
      ],
      "source": [
        "df.head()"
      ]
    },
    {
      "cell_type": "markdown",
      "metadata": {
        "id": "_y9yfS2keEs6"
      },
      "source": [
        "#Split the training dataset into training and validation"
      ]
    },
    {
      "cell_type": "code",
      "execution_count": null,
      "metadata": {
        "id": "6gPwQ_-AdIzt"
      },
      "outputs": [],
      "source": [
        "df_train=df[df['Usage']=='Training']\n",
        "df_valid=df[df['Usage']=='PrivateTest']\n",
        "df_test=df[df['Usage']=='PublicTest']"
      ]
    },
    {
      "cell_type": "markdown",
      "metadata": {
        "id": "aM6FCvmztJDN"
      },
      "source": [
        "##Transform the augmentations"
      ]
    },
    {
      "cell_type": "code",
      "execution_count": null,
      "metadata": {
        "id": "fGaqxUkBbb5s"
      },
      "outputs": [],
      "source": []
    },
    {
      "cell_type": "code",
      "execution_count": null,
      "metadata": {
        "id": "Oc_KnY2xdIzv"
      },
      "outputs": [],
      "source": [
        "\"\"\"\n",
        "    Used to load image data and emotion labels.\n",
        "\n",
        "    Attributes:\n",
        "        transforms: A transform that takes in a image\n",
        "            and returns a transformed version.\n",
        "        target_transforms - A ransform specifically for\n",
        "            with 'Sad', 'Angry' emotions.\n",
        "        dff - Dataframe of image data and labels.\n",
        "    \"\"\"\n",
        "class Dataset(Dataset):\n",
        "    def __init__(self, dff, transforms=None, target_transforms=None):\n",
        "        self.transforms = transforms  # General transforms for all images\n",
        "        self.target_transforms = target_transforms  # Specific transforms for target emotions\n",
        "        self.dff = dff\n",
        "\n",
        "    def __len__(self):\n",
        "        return len(self.dff)\n",
        "\n",
        "    def __getitem__(self, index):\n",
        "        X = self.dff.iloc[index]['pixels']\n",
        "        X = np.array(X, dtype=np.uint8).reshape(48, 48)\n",
        "        X_pil = Image.fromarray(X, mode='L')  # Convert to PIL image in grayscale\n",
        "\n",
        "        # Target Sad or angry emotions only\n",
        "        if self.dff.iloc[index]['emotion'] in [4, 0] and self.target_transforms:\n",
        "            X_pil = self.target_transforms(X_pil)\n",
        "        elif self.transforms:\n",
        "            X_pil = self.transforms(X_pil)\n",
        "\n",
        "        X = np.array(X_pil)  # Convert back to numpy array\n",
        "        y = self.dff.iloc[index]['emotion']\n",
        "        return X, y\n",
        "\n"
      ]
    },
    {
      "cell_type": "markdown",
      "metadata": {
        "id": "nc5dvfzpT_OQ"
      },
      "source": [
        "Data loader parameters"
      ]
    },
    {
      "cell_type": "code",
      "execution_count": null,
      "metadata": {
        "id": "93YyqUtEdIzv"
      },
      "outputs": [],
      "source": [
        "params = {'batch_size': 8,'shuffle': True,'num_workers': 0}"
      ]
    },
    {
      "cell_type": "markdown",
      "metadata": {
        "id": "ooPptI5itQtI"
      },
      "source": [
        "##Define augmentation"
      ]
    },
    {
      "cell_type": "code",
      "execution_count": null,
      "metadata": {
        "id": "QoBLQViIdIzv",
        "colab": {
          "base_uri": "https://localhost:8080/"
        },
        "outputId": "0c2f2f32-80bb-4d45-ae87-6d09f40a5d35"
      },
      "outputs": [
        {
          "output_type": "stream",
          "name": "stderr",
          "text": [
            "/usr/local/lib/python3.10/dist-packages/albumentations/augmentations/dropout/cutout.py:49: FutureWarning:\n",
            "\n",
            "Cutout has been deprecated. Please use CoarseDropout\n",
            "\n"
          ]
        }
      ],
      "source": [
        "#Implement various data augmentation techniques, such as random rotation, horizontal flip, width and height shift, and zoom.\n",
        "class AlbumentationWrapper(object):\n",
        "    \"\"\"\n",
        "    Applies image transformations using Albumentations\n",
        "\n",
        "    Attributes:\n",
        "        transforms: A transformation or multiple transformations\n",
        "    \"\"\"\n",
        "    def __init__(self, transforms=None):\n",
        "        self.transforms = transforms\n",
        "\n",
        "    def __call__(self, img):\n",
        "        # Apply the transforms and return the image\n",
        "        img = np.array(img)\n",
        "        if self.transforms:\n",
        "            augmented = self.transforms(image=img)\n",
        "            img = augmented['image']\n",
        "        return img\n",
        "\n",
        "\n",
        "#Augmentation 3 - 40 per cent training and 17 per cent test accuracy.\n",
        "#train_transforms = AlbumentationWrapper(A.Compose([\n",
        "#   A.HorizontalFlip(p=0.5),\n",
        "#   A.Rotate(limit=15, p=0.5),\n",
        "#   A.Normalize(mean=[0.5], std=[0.5 * 255])\n",
        "#   ToTensorV2(),\n",
        "#]))\n",
        "\n",
        "#Augmentation 2 - 36 per cent training and 18 per cent test accuracy achieved\n",
        "# train_transforms = AlbumentationWrapper(A.Compose([\n",
        "#     A.HorizontalFlip(p=0.5),\n",
        "#     A.ShiftScaleRotate(shift_limit=0.1, scale_limit=0, rotate_limit=20, p=0.5, border_mode=0), A.Normalize(mean=[0.5], std=[0.5]),\n",
        "#     ToTensorV2(),\n",
        "# ]))\n",
        "#Augmentation 1 - 25 per cent training and test accuracy achieved\n",
        "#train_transforms = AlbumentationWrapper(A.Compose([\n",
        "#     A.HorizontalFlip(p=0.5),\n",
        "#     A.RandomRotate90(p=0.5),\n",
        "#     A.ShiftScaleRotate(shift_limit=0.15, scale_limit=0.1, rotate_limit=20, p=0.5, border_mode=0),\n",
        "#     A.RandomResizedCrop(height=48, width=48, scale=(0.8, 1.0), p=0.5),\n",
        "#     A.Normalize(mean=[0.5], std=[0.5]),\n",
        "#     ToTensorV2(),\n",
        "# ]))\n",
        "#Augmentation 4 - 42 per cent training accuracy and 44 per cent test\n",
        "#train_transforms = AlbumentationWrapper(A.Compose([\n",
        "#     A.HorizontalFlip(),\n",
        "#     A.Cutout(2,2,2,0.5),\n",
        "#     A.GaussNoise(),\n",
        "#     A.Normalize(mean=[0.5], std=[0.5 * 255]),\n",
        "#     ToTensorV2(),\n",
        "#  ]))\n",
        "\n",
        "#Targeted Transform - this one is to target sad and angry emotions\n",
        "target_transforms = AlbumentationWrapper(A.Compose([\n",
        "    A.HorizontalFlip(),\n",
        "    A.Cutout(2,2,2,0.5),\n",
        "    A.GaussNoise(),\n",
        "    A.Normalize(mean=[0.5], std=[0.5 * 255]),\n",
        "    ToTensorV2(),\n",
        " ]))\n",
        "\n",
        "# Create Albumentation transforms for test only\n",
        "basic_transforms = AlbumentationWrapper(A.Compose([\n",
        "    A.Resize(48, 48),\n",
        "    A.Normalize(mean=[0.5], std=[0.5 * 255]),\n",
        "    ToTensorV2(),\n",
        "]))\n",
        "\n"
      ]
    },
    {
      "cell_type": "markdown",
      "metadata": {
        "id": "OuqvbMPCdIzv"
      },
      "source": [
        "**Loading datasets**"
      ]
    },
    {
      "cell_type": "code",
      "execution_count": null,
      "metadata": {
        "id": "aFKzVoNbdIzw"
      },
      "outputs": [],
      "source": [
        "\n",
        "# Setup datasets with corresponding transformations\n",
        "# Setup datasets with corresponding transformations\n",
        "training_set = Dataset(df_train, basic_transforms, target_transforms)  # Training data with specific augmentations for sad and angry\n",
        "training_generator = DataLoader(training_set, **params)\n",
        "\n",
        "#training_set = Dataset(df_train, train_transforms)  # Training data\n",
        "#training_generator = DataLoader(training_set, **params)\n",
        "\n",
        "validation_set = Dataset(df_valid, basic_transforms)  # Validation data without augmentations\n",
        "validation_generator = DataLoader(validation_set, **params)\n",
        "\n",
        "test_set = Dataset(df_test, basic_transforms)  # Test data without augmentations\n",
        "test_generator = DataLoader(test_set, **params)\n"
      ]
    },
    {
      "cell_type": "markdown",
      "metadata": {
        "id": "BdbLWpWgda87"
      },
      "source": [
        "##Try out with different augmentation strategies and their combinations to find the best approach.\n",
        "\n"
      ]
    },
    {
      "cell_type": "code",
      "execution_count": null,
      "metadata": {
        "id": "6-E2uOetcz1B",
        "colab": {
          "base_uri": "https://localhost:8080/",
          "height": 407
        },
        "outputId": "b713eb04-f8df-4cb4-d055-2e8d415be69b"
      },
      "outputs": [
        {
          "output_type": "display_data",
          "data": {
            "text/plain": [
              "<Figure size 2500x400 with 8 Axes>"
            ],
            "image/png": "[encoded data removed]"
          },
          "metadata": {}
        }
      ],
      "source": [
        "\n",
        "# Function to denormalize and show image for visualization\n",
        "def imshow(img):\n",
        "    \"\"\"\n",
        "    Display an image by converting it to an numpy array and displaying it in greyscale.\n",
        "\n",
        "    Parameters:\n",
        "        img: A tensor representing the image.\n",
        "\n",
        "    This function was created so that the augmentation techniques could be reviewed.\n",
        "    \"\"\"\n",
        "    img = img.squeeze()  # Remove channel dimension if it's 1 (or batch dimension if showing a single image)\n",
        "    npimg = img.numpy()  # Convert to numpy array\n",
        "    plt.imshow(npimg, cmap='gray')  # Display it in grayscale\n",
        "\n",
        "dataiter = iter(training_generator)\n",
        "images, labels = next(dataiter)  # Get a batch of images\n",
        "\n",
        "# Visualize some augmented images\n",
        "fig = plt.figure(figsize=(25, 4))\n",
        "for idx in range(8):\n",
        "    ax = fig.add_subplot(2, 4, idx + 1, xticks=[], yticks=[])\n",
        "    imshow(images[idx].squeeze())  # Remove batch dimension to show a single image\n",
        "    # Retrieve the label name using the label index\n",
        "    label_name = emotion_labels[labels[idx].item()]\n",
        "    ax.set_title(f'Emotion: {label_name}')\n",
        "    ax.axis('off')  # Hide the axis details\n",
        "\n",
        "plt.tight_layout()  # Adjust the layout\n",
        "plt.show()\n"
      ]
    },
    {
      "cell_type": "markdown",
      "metadata": {
        "id": "cL5XknjfdIzw"
      },
      "source": [
        "**Function for getting Learning rate at runtime**"
      ]
    },
    {
      "cell_type": "code",
      "execution_count": null,
      "metadata": {
        "id": "k5QHqYOndIzw"
      },
      "outputs": [],
      "source": [
        "def get_lr(optimizer):\n",
        "    for param_group in optimizer.param_groups:\n",
        "        return param_group['lr']"
      ]
    },
    {
      "cell_type": "markdown",
      "metadata": {
        "id": "oXT1DZxgdIzw"
      },
      "source": [
        "#Training Code"
      ]
    },
    {
      "cell_type": "code",
      "execution_count": null,
      "metadata": {
        "id": "82mUHY9QdIzw"
      },
      "outputs": [],
      "source": [
        "def train(model, train_loader, optimizer, scheduler, criterion):\n",
        "    \"\"\"\n",
        "    Trains a model for one epoch.\n",
        "\n",
        "    Parameters:\n",
        "        model: The model to be trained.\n",
        "        train_loader: The DataLoader\n",
        "        optimizer: The optimizer such as SGD\n",
        "        scheduler: The scheduler such as the OneCycleLR\n",
        "        criterion: Such as CrossEntropyLoss\n",
        "\n",
        "    Returns:\n",
        "        The training loss and the training accuracy.\n",
        "    \"\"\"\n",
        "    model.train()  # Set the model to training mode\n",
        "    running_loss = 0.0\n",
        "    correct = 0\n",
        "    total = 0\n",
        "\n",
        "    for batch_idx, (data, targets) in enumerate(tqdm(train_loader)):\n",
        "        data, targets = data.to(device), targets.to(device)\n",
        "        optimizer.zero_grad()  # Clear the gradients\n",
        "        outputs = model(data)  # Forward pass\n",
        "        loss = criterion(outputs, targets)  # Compute the loss\n",
        "        loss.backward()  # Backward pass\n",
        "        optimizer.step()  # Update parameters\n",
        "        scheduler.step()  # Correct place for OneCycleLR after optimizer.step()\n",
        "\n",
        "        running_loss += loss.item()\n",
        "        _, predicted = outputs.max(1)\n",
        "        total += targets.size(0)\n",
        "        correct += predicted.eq(targets).sum().item()\n",
        "\n",
        "    train_loss = running_loss / len(train_loader)\n",
        "    train_accuracy = 100. * correct / total\n",
        "    print(f'Train Loss: {train_loss:.6f}, Train Acc: {train_accuracy:.2f}%')\n",
        "\n",
        "    return train_loss, train_accuracy  # Return training loss and accuracy\n"
      ]
    },
    {
      "cell_type": "markdown",
      "metadata": {
        "id": "VGP4LF2DdIzx"
      },
      "source": [
        "#Test Code"
      ]
    },
    {
      "cell_type": "code",
      "execution_count": null,
      "metadata": {
        "id": "g-KXj8C3dIzx"
      },
      "outputs": [],
      "source": [
        "def test(model, test_loader, criterion):\n",
        "    \"\"\"\n",
        "    Tests a model.\n",
        "\n",
        "    Parameters:\n",
        "        model: The model to be trained.\n",
        "        test_loader: The DataLoader\n",
        "        criterion: Such as CrossEntropyLoss\n",
        "\n",
        "    Returns:\n",
        "        The test loss and the test accuracy.\n",
        "    \"\"\"\n",
        "    model.eval()  # Set the model to evaluation mode\n",
        "    test_loss = 0\n",
        "    correct = 0\n",
        "    total = 0\n",
        "    with torch.no_grad():\n",
        "        for data, targets in test_loader:\n",
        "            data, targets = data.to(device), targets.to(device)\n",
        "            outputs = model(data)\n",
        "            loss = criterion(outputs, targets)\n",
        "            test_loss += loss.item()\n",
        "            _, predicted = outputs.max(1)\n",
        "            total += targets.size(0)\n",
        "            correct += predicted.eq(targets).sum().item()\n",
        "\n",
        "    test_loss /= len(test_loader)\n",
        "    test_accuracy = 100. * correct / total\n",
        "    print(f'Test Loss: {test_loss:.6f}, Test Acc: {test_accuracy:.2f}%')\n"
      ]
    },
    {
      "cell_type": "markdown",
      "metadata": {
        "id": "6WCaiMQNMnX9"
      },
      "source": [
        "##Validation Code"
      ]
    },
    {
      "cell_type": "code",
      "execution_count": null,
      "metadata": {
        "id": "11hU5TgAMrOD"
      },
      "outputs": [],
      "source": [
        "def validate(model, loader, criterion):\n",
        "    \"\"\"\n",
        "    Gets the modes performance on the validation set\n",
        "\n",
        "    Parameters:\n",
        "        model: The model to be trained.\n",
        "        validation loader: The validation_generator dataloader\n",
        "        criterion: Such as CrossEntropyLoss\n",
        "\n",
        "    Returns:\n",
        "        The average validation loss and accuracy\n",
        "\n",
        "    \"\"\"\n",
        "    model.eval()\n",
        "    running_loss = 0.0\n",
        "    correct = 0\n",
        "    total = 0\n",
        "\n",
        "    with torch.no_grad():\n",
        "        for data, targets in loader:\n",
        "            data, targets = data.to(device), targets.to(device)\n",
        "            outputs = model(data)\n",
        "            loss = criterion(outputs, targets)\n",
        "            running_loss += loss.item()\n",
        "            _, predicted = outputs.max(1)\n",
        "            correct += predicted.eq(targets).sum().item()\n",
        "            total += targets.size(0)\n",
        "\n",
        "    average_loss = running_loss / len(loader)\n",
        "    accuracy = 100. * correct / total\n",
        "    return average_loss, accuracy\n"
      ]
    },
    {
      "cell_type": "markdown",
      "metadata": {
        "id": "WmgoyN1OdIzx"
      },
      "source": [
        "##Design a CNN architecture for facial emotion recognition.\n",
        "\n"
      ]
    },
    {
      "cell_type": "code",
      "execution_count": null,
      "metadata": {
        "id": "frjAhAZrdIzx"
      },
      "outputs": [],
      "source": [
        "\n",
        "class Net(nn.Module):\n",
        "    \"\"\"\n",
        "    A CNN model with mulitple convolutional layers, residual blocks, and a global average pooling layer.\n",
        "\n",
        "\n",
        "    Attributes:\n",
        "        bn1: Batch normalization layers are inserted after convolutional layers to speed up training.\n",
        "        dropout: Dropout regularization is applied to prevent overfitting by randomly ignoring certain nodes in a layer during training\n",
        "        resblock: Residual blocks are used to allow memory (or information) to flow from initial to last layers.\n",
        "        dilated_conv: Dilated convolutions are employed to enable the network to have a larger receptive field without increasing the number of parameters\n",
        "        gap: Global average pooling layeris designed to replace flatten layer and fully connected layers\n",
        "        The Kaiming or He-Normal distribution is used for weight initialization.\n",
        "    \"\"\"\n",
        "    def __init__(self, dropout_rate=0.5):\n",
        "        super(Net, self).__init__()\n",
        "\n",
        "        # Define the initial convolution block\n",
        "        self.conv1 = nn.Conv2d(1, 32, kernel_size=3, padding=1, bias=False)\n",
        "        self.bn1 = nn.BatchNorm2d(32)\n",
        "        self.relu1 = nn.ReLU(inplace=True)\n",
        "        self.dropout1 = nn.Dropout2d(p=dropout_rate)\n",
        "\n",
        "        # Adding a residual block\n",
        "        self.resblock1 = nn.Sequential(\n",
        "            nn.Conv2d(32, 64, kernel_size=3, padding=1, bias=False),\n",
        "            nn.BatchNorm2d(64),\n",
        "            nn.ReLU(inplace=True),\n",
        "            nn.Conv2d(64, 64, kernel_size=3, padding=1, bias=False),\n",
        "            nn.BatchNorm2d(64)\n",
        "        )\n",
        "        self.resblock1_skip = nn.Sequential(\n",
        "            nn.Conv2d(32, 64, kernel_size=1, bias=False),\n",
        "            nn.BatchNorm2d(64)\n",
        "        )\n",
        "\n",
        "        # Dilated convolution\n",
        "        self.dilated_conv2 = nn.Conv2d(64, 128, kernel_size=3, padding=2, dilation=2, bias=False)\n",
        "        self.bn2 = nn.BatchNorm2d(128)\n",
        "        self.relu2 = nn.ReLU(inplace=True)\n",
        "\n",
        "        # Global average pooling and final classifier\n",
        "        self.gap = nn.AdaptiveAvgPool2d(1)\n",
        "        self.fc = nn.Linear(128, 7)\n",
        "\n",
        "        # Weight initialization\n",
        "        for m in self.modules():\n",
        "            if isinstance(m, nn.Conv2d):\n",
        "                nn.init.kaiming_normal_(m.weight, mode='fan_out', nonlinearity='relu')\n",
        "            elif isinstance(m, nn.BatchNorm2d):\n",
        "                nn.init.constant_(m.weight, 1)\n",
        "                nn.init.constant_(m.bias, 0)\n",
        "            elif isinstance(m, nn.Linear):\n",
        "                nn.init.xavier_uniform_(m.weight)\n",
        "                nn.init.constant_(m.bias, 0)\n",
        "\n",
        "    def forward(self, x):\n",
        "        x = self.conv1(x)\n",
        "        x = self.bn1(x)\n",
        "        x = self.relu1(x)\n",
        "        x = self.dropout1(x)\n",
        "\n",
        "        # Residual connection\n",
        "        res = self.resblock1_skip(x)\n",
        "        x = self.resblock1(x)\n",
        "        x = x + res\n",
        "        x = F.relu(x)\n",
        "\n",
        "        x = self.dilated_conv2(x)\n",
        "        x = self.bn2(x)\n",
        "        x = self.relu2(x)\n",
        "\n",
        "        x = self.gap(x)\n",
        "        x = x.view(x.size(0), -1)\n",
        "        x = self.fc(x)\n",
        "        return F.log_softmax(x, dim=1)\n"
      ]
    },
    {
      "cell_type": "markdown",
      "metadata": {
        "id": "CteCIUq9QZoi"
      },
      "source": [
        "##Train the CNN model using the augmented training data.\n",
        "\n"
      ]
    },
    {
      "cell_type": "code",
      "execution_count": null,
      "metadata": {
        "id": "wzlDs8y7dIzy",
        "colab": {
          "base_uri": "https://localhost:8080/"
        },
        "outputId": "824061c1-ec91-4396-a510-dd6977381047"
      },
      "outputs": [
        {
          "metadata": {
            "tags": null
          },
          "name": "stdout",
          "output_type": "stream",
          "text": [
            "EPOCH: 0 LR: 0.0019999999999999983\n"
          ]
        },
        {
          "metadata": {
            "tags": null
          },
          "name": "stderr",
          "output_type": "stream",
          "text": [
            "100%|██████████| 3589/3589 [07:51<00:00,  7.61it/s]\n"
          ]
        },
        {
          "metadata": {
            "tags": null
          },
          "name": "stdout",
          "output_type": "stream",
          "text": [
            "Train Loss: 1.811969, Train Acc: 23.89%\n",
            "Saved best model at epoch 0 with validation loss: 1.806583747035411\n",
            "Epoch 0: Current LR = 0.0030627992928527574\n",
            "Epoch 0: Train Loss: 1.811969, Train Acc: 23.89%\n",
            "Epoch 0: Validation Loss: 1.806584, Validation Acc: 24.60%\n",
            "EPOCH: 1 LR: 0.0030627992928527574\n"
          ]
        },
        {
          "metadata": {
            "tags": null
          },
          "name": "stderr",
          "output_type": "stream",
          "text": [
            "100%|██████████| 3589/3589 [07:52<00:00,  7.60it/s]\n"
          ]
        },
        {
          "metadata": {
            "tags": null
          },
          "name": "stdout",
          "output_type": "stream",
          "text": [
            "Train Loss: 1.798966, Train Acc: 24.64%\n",
            "Saved best model at epoch 1 with validation loss: 1.8021598451652612\n",
            "Epoch 1: Current LR = 0.0060001877632136335\n",
            "Epoch 1: Train Loss: 1.798966, Train Acc: 24.64%\n",
            "Epoch 1: Validation Loss: 1.802160, Validation Acc: 25.52%\n",
            "EPOCH: 2 LR: 0.0060001877632136335\n"
          ]
        },
        {
          "metadata": {
            "tags": null
          },
          "name": "stderr",
          "output_type": "stream",
          "text": [
            "100%|██████████| 3589/3589 [07:51<00:00,  7.62it/s]\n"
          ]
        },
        {
          "metadata": {
            "tags": null
          },
          "name": "stdout",
          "output_type": "stream",
          "text": [
            "Train Loss: 1.790494, Train Acc: 25.41%\n",
            "Saved best model at epoch 2 with validation loss: 1.783359913624209\n",
            "Epoch 2: Current LR = 0.0101184199912752\n",
            "Epoch 2: Train Loss: 1.790494, Train Acc: 25.41%\n",
            "Epoch 2: Validation Loss: 1.783360, Validation Acc: 26.61%\n",
            "EPOCH: 3 LR: 0.0101184199912752\n"
          ]
        },
        {
          "metadata": {
            "tags": null
          },
          "name": "stderr",
          "output_type": "stream",
          "text": [
            "100%|██████████| 3589/3589 [07:50<00:00,  7.62it/s]\n"
          ]
        },
        {
          "metadata": {
            "tags": null
          },
          "name": "stdout",
          "output_type": "stream",
          "text": [
            "Train Loss: 1.785000, Train Acc: 25.65%\n",
            "Saved best model at epoch 3 with validation loss: 1.776558661248477\n",
            "Epoch 3: Current LR = 0.014444861688195847\n",
            "Epoch 3: Train Loss: 1.785000, Train Acc: 25.65%\n",
            "Epoch 3: Validation Loss: 1.776559, Validation Acc: 25.91%\n",
            "EPOCH: 4 LR: 0.014444861688195847\n"
          ]
        },
        {
          "metadata": {
            "tags": null
          },
          "name": "stderr",
          "output_type": "stream",
          "text": [
            "100%|██████████| 3589/3589 [07:56<00:00,  7.53it/s]\n"
          ]
        },
        {
          "metadata": {
            "tags": null
          },
          "name": "stdout",
          "output_type": "stream",
          "text": [
            "Train Loss: 1.781591, Train Acc: 25.68%\n",
            "Saved best model at epoch 4 with validation loss: 1.7660432074277066\n",
            "Epoch 4: Current LR = 0.017957704148185354\n",
            "Epoch 4: Train Loss: 1.781591, Train Acc: 25.68%\n",
            "Epoch 4: Validation Loss: 1.766043, Validation Acc: 27.19%\n",
            "EPOCH: 5 LR: 0.017957704148185354\n"
          ]
        },
        {
          "metadata": {
            "tags": null
          },
          "name": "stderr",
          "output_type": "stream",
          "text": [
            "100%|██████████| 3589/3589 [07:48<00:00,  7.66it/s]\n"
          ]
        },
        {
          "metadata": {
            "tags": null
          },
          "name": "stdout",
          "output_type": "stream",
          "text": [
            "Train Loss: 1.780466, Train Acc: 25.69%\n",
            "Epoch 5: Current LR = 0.01982729259738151\n",
            "Epoch 5: Train Loss: 1.780466, Train Acc: 25.69%\n",
            "Epoch 5: Validation Loss: 1.780244, Validation Acc: 26.78%\n",
            "EPOCH: 6 LR: 0.01982729259738151\n"
          ]
        },
        {
          "metadata": {
            "tags": null
          },
          "name": "stderr",
          "output_type": "stream",
          "text": [
            "100%|██████████| 3589/3589 [07:48<00:00,  7.66it/s]\n"
          ]
        },
        {
          "metadata": {
            "tags": null
          },
          "name": "stdout",
          "output_type": "stream",
          "text": [
            "Train Loss: 1.777218, Train Acc: 26.26%\n",
            "Epoch 6: Current LR = 0.019972879678275515\n",
            "Epoch 6: Train Loss: 1.777218, Train Acc: 26.26%\n",
            "Epoch 6: Validation Loss: 1.770775, Validation Acc: 25.86%\n",
            "EPOCH: 7 LR: 0.019972879678275515\n"
          ]
        },
        {
          "metadata": {
            "tags": null
          },
          "name": "stderr",
          "output_type": "stream",
          "text": [
            "100%|██████████| 3589/3589 [07:49<00:00,  7.65it/s]\n"
          ]
        },
        {
          "metadata": {
            "tags": null
          },
          "name": "stdout",
          "output_type": "stream",
          "text": [
            "Train Loss: 1.773476, Train Acc: 26.33%\n",
            "Saved best model at epoch 7 with validation loss: 1.7625051227072566\n",
            "Epoch 7: Current LR = 0.01980778801332045\n",
            "Epoch 7: Train Loss: 1.773476, Train Acc: 26.33%\n",
            "Epoch 7: Validation Loss: 1.762505, Validation Acc: 27.25%\n",
            "EPOCH: 8 LR: 0.01980778801332045\n"
          ]
        },
        {
          "metadata": {
            "tags": null
          },
          "name": "stderr",
          "output_type": "stream",
          "text": [
            "100%|██████████| 3589/3589 [07:48<00:00,  7.66it/s]\n"
          ]
        },
        {
          "metadata": {
            "tags": null
          },
          "name": "stdout",
          "output_type": "stream",
          "text": [
            "Train Loss: 1.770639, Train Acc: 26.53%\n",
            "Saved best model at epoch 8 with validation loss: 1.7455400016100742\n",
            "Epoch 8: Current LR = 0.019495179591623734\n",
            "Epoch 8: Train Loss: 1.770639, Train Acc: 26.53%\n",
            "Epoch 8: Validation Loss: 1.745540, Validation Acc: 28.06%\n",
            "EPOCH: 9 LR: 0.019495179591623734\n"
          ]
        },
        {
          "metadata": {
            "tags": null
          },
          "name": "stderr",
          "output_type": "stream",
          "text": [
            "100%|██████████| 3589/3589 [07:47<00:00,  7.68it/s]\n"
          ]
        },
        {
          "metadata": {
            "tags": null
          },
          "name": "stdout",
          "output_type": "stream",
          "text": [
            "Train Loss: 1.713014, Train Acc: 30.10%\n",
            "Epoch 9: Current LR = 0.019039756334824416\n",
            "Epoch 9: Train Loss: 1.713014, Train Acc: 30.10%\n",
            "Epoch 9: Validation Loss: 2.031901, Validation Acc: 20.42%\n",
            "EPOCH: 10 LR: 0.019039756334824416\n"
          ]
        },
        {
          "metadata": {
            "tags": null
          },
          "name": "stderr",
          "output_type": "stream",
          "text": [
            "100%|██████████| 3589/3589 [07:51<00:00,  7.61it/s]\n"
          ]
        },
        {
          "metadata": {
            "tags": null
          },
          "name": "stdout",
          "output_type": "stream",
          "text": [
            "Train Loss: 1.655238, Train Acc: 32.43%\n",
            "Epoch 10: Current LR = 0.0184483682326139\n",
            "Epoch 10: Train Loss: 1.655238, Train Acc: 32.43%\n",
            "Epoch 10: Validation Loss: 1.811054, Validation Acc: 28.92%\n",
            "EPOCH: 11 LR: 0.0184483682326139\n"
          ]
        },
        {
          "metadata": {
            "tags": null
          },
          "name": "stderr",
          "output_type": "stream",
          "text": [
            "100%|██████████| 3589/3589 [07:43<00:00,  7.74it/s]\n"
          ]
        },
        {
          "metadata": {
            "tags": null
          },
          "name": "stdout",
          "output_type": "stream",
          "text": [
            "Train Loss: 1.626185, Train Acc: 34.17%\n",
            "Epoch 11: Current LR = 0.017729910312515005\n",
            "Epoch 11: Train Loss: 1.626185, Train Acc: 34.17%\n",
            "Epoch 11: Validation Loss: 1.810861, Validation Acc: 30.18%\n",
            "EPOCH: 12 LR: 0.017729910312515005\n"
          ]
        },
        {
          "metadata": {
            "tags": null
          },
          "name": "stderr",
          "output_type": "stream",
          "text": [
            "100%|██████████| 3589/3589 [07:48<00:00,  7.67it/s]\n"
          ]
        },
        {
          "metadata": {
            "tags": null
          },
          "name": "stdout",
          "output_type": "stream",
          "text": [
            "Train Loss: 1.563379, Train Acc: 36.55%\n",
            "Epoch 12: Current LR = 0.016895188850388498\n",
            "Epoch 12: Train Loss: 1.563379, Train Acc: 36.55%\n",
            "Epoch 12: Validation Loss: 1.784807, Validation Acc: 30.84%\n",
            "EPOCH: 13 LR: 0.016895188850388498\n"
          ]
        },
        {
          "metadata": {
            "tags": null
          },
          "name": "stderr",
          "output_type": "stream",
          "text": [
            "100%|██████████| 3589/3589 [07:48<00:00,  7.67it/s]\n"
          ]
        },
        {
          "metadata": {
            "tags": null
          },
          "name": "stdout",
          "output_type": "stream",
          "text": [
            "Train Loss: 1.520924, Train Acc: 38.28%\n",
            "Epoch 13: Current LR = 0.015956758833985663\n",
            "Epoch 13: Train Loss: 1.520924, Train Acc: 38.28%\n",
            "Epoch 13: Validation Loss: 1.778956, Validation Acc: 28.11%\n",
            "EPOCH: 14 LR: 0.015956758833985663\n"
          ]
        },
        {
          "metadata": {
            "tags": null
          },
          "name": "stderr",
          "output_type": "stream",
          "text": [
            "100%|██████████| 3589/3589 [07:36<00:00,  7.86it/s]\n"
          ]
        },
        {
          "metadata": {
            "tags": null
          },
          "name": "stdout",
          "output_type": "stream",
          "text": [
            "Train Loss: 1.474502, Train Acc: 40.25%\n",
            "Epoch 14: Current LR = 0.014928735124246272\n",
            "Epoch 14: Train Loss: 1.474502, Train Acc: 40.25%\n",
            "Epoch 14: Validation Loss: 1.915953, Validation Acc: 30.79%\n",
            "EPOCH: 15 LR: 0.014928735124246272\n"
          ]
        },
        {
          "metadata": {
            "tags": null
          },
          "name": "stderr",
          "output_type": "stream",
          "text": [
            "100%|██████████| 3589/3589 [07:40<00:00,  7.80it/s]\n"
          ]
        },
        {
          "metadata": {
            "tags": null
          },
          "name": "stdout",
          "output_type": "stream",
          "text": [
            "Train Loss: 1.454806, Train Acc: 41.78%\n",
            "Epoch 15: Current LR = 0.013826580154651926\n",
            "Epoch 15: Train Loss: 1.454806, Train Acc: 41.78%\n",
            "Epoch 15: Validation Loss: 1.808455, Validation Acc: 31.65%\n",
            "EPOCH: 16 LR: 0.013826580154651926\n"
          ]
        },
        {
          "metadata": {
            "tags": null
          },
          "name": "stderr",
          "output_type": "stream",
          "text": [
            "100%|██████████| 3589/3589 [07:46<00:00,  7.69it/s]\n"
          ]
        },
        {
          "metadata": {
            "tags": null
          },
          "name": "stdout",
          "output_type": "stream",
          "text": [
            "Train Loss: 1.429643, Train Acc: 43.20%\n",
            "Saved best model at epoch 16 with validation loss: 1.6632655035944983\n",
            "Epoch 16: Current LR = 0.012666871361834014\n",
            "Epoch 16: Train Loss: 1.429643, Train Acc: 43.20%\n",
            "Epoch 16: Validation Loss: 1.663266, Validation Acc: 35.41%\n",
            "EPOCH: 17 LR: 0.012666871361834014\n"
          ]
        },
        {
          "metadata": {
            "tags": null
          },
          "name": "stderr",
          "output_type": "stream",
          "text": [
            "100%|██████████| 3589/3589 [07:49<00:00,  7.64it/s]\n"
          ]
        },
        {
          "metadata": {
            "tags": null
          },
          "name": "stdout",
          "output_type": "stream",
          "text": [
            "Train Loss: 1.401720, Train Acc: 44.09%\n",
            "Epoch 17: Current LR = 0.011467051845496455\n",
            "Epoch 17: Train Loss: 1.401720, Train Acc: 44.09%\n",
            "Epoch 17: Validation Loss: 2.054036, Validation Acc: 33.35%\n",
            "EPOCH: 18 LR: 0.011467051845496455\n"
          ]
        },
        {
          "metadata": {
            "tags": null
          },
          "name": "stderr",
          "output_type": "stream",
          "text": [
            "100%|██████████| 3589/3589 [07:55<00:00,  7.55it/s]\n"
          ]
        },
        {
          "metadata": {
            "tags": null
          },
          "name": "stdout",
          "output_type": "stream",
          "text": [
            "Train Loss: 1.382728, Train Acc: 44.96%\n",
            "Saved best model at epoch 18 with validation loss: 1.6054686443311865\n",
            "Epoch 18: Current LR = 0.010245168007960069\n",
            "Epoch 18: Train Loss: 1.382728, Train Acc: 44.96%\n",
            "Epoch 18: Validation Loss: 1.605469, Validation Acc: 37.73%\n",
            "EPOCH: 19 LR: 0.010245168007960069\n"
          ]
        },
        {
          "metadata": {
            "tags": null
          },
          "name": "stderr",
          "output_type": "stream",
          "text": [
            "100%|██████████| 3589/3589 [07:52<00:00,  7.60it/s]\n"
          ]
        },
        {
          "metadata": {
            "tags": null
          },
          "name": "stdout",
          "output_type": "stream",
          "text": [
            "Train Loss: 1.363759, Train Acc: 45.72%\n",
            "Epoch 19: Current LR = 0.009019598119474026\n",
            "Epoch 19: Train Loss: 1.363759, Train Acc: 45.72%\n",
            "Epoch 19: Validation Loss: 1.657649, Validation Acc: 36.53%\n",
            "EPOCH: 20 LR: 0.009019598119474026\n"
          ]
        },
        {
          "metadata": {
            "tags": null
          },
          "name": "stderr",
          "output_type": "stream",
          "text": [
            "100%|██████████| 3589/3589 [07:45<00:00,  7.70it/s]\n"
          ]
        },
        {
          "metadata": {
            "tags": null
          },
          "name": "stdout",
          "output_type": "stream",
          "text": [
            "Train Loss: 1.343499, Train Acc: 46.70%\n",
            "Epoch 20: Current LR = 0.007808775891924772\n",
            "Epoch 20: Train Loss: 1.343499, Train Acc: 46.70%\n",
            "Epoch 20: Validation Loss: 1.843789, Validation Acc: 31.07%\n",
            "EPOCH: 21 LR: 0.007808775891924772\n"
          ]
        },
        {
          "metadata": {
            "tags": null
          },
          "name": "stderr",
          "output_type": "stream",
          "text": [
            "100%|██████████| 3589/3589 [07:46<00:00,  7.69it/s]\n"
          ]
        },
        {
          "metadata": {
            "tags": null
          },
          "name": "stdout",
          "output_type": "stream",
          "text": [
            "Train Loss: 1.321133, Train Acc: 47.92%\n",
            "Epoch 21: Current LR = 0.006630913218651106\n",
            "Epoch 21: Train Loss: 1.321133, Train Acc: 47.92%\n",
            "Epoch 21: Validation Loss: 1.675942, Validation Acc: 38.76%\n",
            "EPOCH: 22 LR: 0.006630913218651106\n"
          ]
        },
        {
          "metadata": {
            "tags": null
          },
          "name": "stderr",
          "output_type": "stream",
          "text": [
            "100%|██████████| 3589/3589 [07:44<00:00,  7.73it/s]\n"
          ]
        },
        {
          "metadata": {
            "tags": null
          },
          "name": "stdout",
          "output_type": "stream",
          "text": [
            "Train Loss: 1.306347, Train Acc: 48.31%\n",
            "Epoch 22: Current LR = 0.005503726250616676\n",
            "Epoch 22: Train Loss: 1.306347, Train Acc: 48.31%\n",
            "Epoch 22: Validation Loss: 1.673080, Validation Acc: 39.18%\n",
            "EPOCH: 23 LR: 0.005503726250616676\n"
          ]
        },
        {
          "metadata": {
            "tags": null
          },
          "name": "stderr",
          "output_type": "stream",
          "text": [
            "100%|██████████| 3589/3589 [07:49<00:00,  7.65it/s]\n"
          ]
        },
        {
          "metadata": {
            "tags": null
          },
          "name": "stdout",
          "output_type": "stream",
          "text": [
            "Train Loss: 1.290880, Train Acc: 49.28%\n",
            "Epoch 23: Current LR = 0.0044441689290092585\n",
            "Epoch 23: Train Loss: 1.290880, Train Acc: 49.28%\n",
            "Epoch 23: Validation Loss: 1.619104, Validation Acc: 39.01%\n",
            "EPOCH: 24 LR: 0.0044441689290092585\n"
          ]
        },
        {
          "metadata": {
            "tags": null
          },
          "name": "stderr",
          "output_type": "stream",
          "text": [
            "100%|██████████| 3589/3589 [07:46<00:00,  7.69it/s]\n"
          ]
        },
        {
          "metadata": {
            "tags": null
          },
          "name": "stdout",
          "output_type": "stream",
          "text": [
            "Train Loss: 1.263188, Train Acc: 50.51%\n",
            "Epoch 24: Current LR = 0.003468177982184516\n",
            "Epoch 24: Train Loss: 1.263188, Train Acc: 50.51%\n",
            "Epoch 24: Validation Loss: 1.607644, Validation Acc: 40.07%\n",
            "EPOCH: 25 LR: 0.003468177982184516\n"
          ]
        },
        {
          "metadata": {
            "tags": null
          },
          "name": "stderr",
          "output_type": "stream",
          "text": [
            "100%|██████████| 3589/3589 [07:55<00:00,  7.55it/s]\n"
          ]
        },
        {
          "metadata": {
            "tags": null
          },
          "name": "stdout",
          "output_type": "stream",
          "text": [
            "Train Loss: 1.248970, Train Acc: 50.92%\n",
            "Epoch 25: Current LR = 0.0025904332224375853\n",
            "Epoch 25: Train Loss: 1.248970, Train Acc: 50.92%\n",
            "Epoch 25: Validation Loss: 1.716628, Validation Acc: 40.29%\n",
            "EPOCH: 26 LR: 0.0025904332224375853\n"
          ]
        },
        {
          "metadata": {
            "tags": null
          },
          "name": "stderr",
          "output_type": "stream",
          "text": [
            "100%|██████████| 3589/3589 [07:53<00:00,  7.58it/s]\n"
          ]
        },
        {
          "metadata": {
            "tags": null
          },
          "name": "stdout",
          "output_type": "stream",
          "text": [
            "Train Loss: 1.226997, Train Acc: 51.88%\n",
            "Saved best model at epoch 26 with validation loss: 1.5856514042098167\n",
            "Epoch 26: Current LR = 0.0018241367479621459\n",
            "Epoch 26: Train Loss: 1.226997, Train Acc: 51.88%\n",
            "Epoch 26: Validation Loss: 1.585651, Validation Acc: 39.62%\n",
            "EPOCH: 27 LR: 0.0018241367479621459\n"
          ]
        },
        {
          "metadata": {
            "tags": null
          },
          "name": "stderr",
          "output_type": "stream",
          "text": [
            "100%|██████████| 3589/3589 [07:50<00:00,  7.63it/s]\n"
          ]
        },
        {
          "metadata": {
            "tags": null
          },
          "name": "stdout",
          "output_type": "stream",
          "text": [
            "Train Loss: 1.205328, Train Acc: 53.17%\n",
            "Epoch 27: Current LR = 0.0011808143710050453\n",
            "Epoch 27: Train Loss: 1.205328, Train Acc: 53.17%\n",
            "Epoch 27: Validation Loss: 1.605225, Validation Acc: 41.07%\n",
            "EPOCH: 28 LR: 0.0011808143710050453\n"
          ]
        },
        {
          "output_type": "stream",
          "name": "stderr",
          "text": [
            "100%|██████████| 3589/3589 [07:48<00:00,  7.66it/s]\n"
          ]
        },
        {
          "output_type": "stream",
          "name": "stdout",
          "text": [
            "Train Loss: 1.188361, Train Acc: 53.88%\n",
            "Saved best model at epoch 28 with validation loss: 1.544785437180364\n",
            "Epoch 28: Current LR = 0.0006701422589218464\n",
            "Epoch 28: Train Loss: 1.188361, Train Acc: 53.88%\n",
            "Epoch 28: Validation Loss: 1.544785, Validation Acc: 42.46%\n",
            "EPOCH: 29 LR: 0.0006701422589218464\n"
          ]
        },
        {
          "output_type": "stream",
          "name": "stderr",
          "text": [
            "100%|██████████| 3589/3589 [07:50<00:00,  7.64it/s]\n"
          ]
        },
        {
          "output_type": "stream",
          "name": "stdout",
          "text": [
            "Train Loss: 1.166943, Train Acc: 55.07%\n",
            "Epoch 29: Current LR = 0.00029980139561320017\n",
            "Epoch 29: Train Loss: 1.166943, Train Acc: 55.07%\n",
            "Epoch 29: Validation Loss: 1.569830, Validation Acc: 42.66%\n",
            "EPOCH: 30 LR: 0.00029980139561320017\n"
          ]
        },
        {
          "output_type": "stream",
          "name": "stderr",
          "text": [
            "100%|██████████| 3589/3589 [07:52<00:00,  7.59it/s]\n"
          ]
        },
        {
          "output_type": "stream",
          "name": "stdout",
          "text": [
            "Train Loss: 1.148484, Train Acc: 55.78%\n",
            "Saved best model at epoch 30 with validation loss: 1.5253409468517005\n",
            "Epoch 30: Current LR = 7.53620523774985e-05\n",
            "Epoch 30: Train Loss: 1.148484, Train Acc: 55.78%\n",
            "Epoch 30: Validation Loss: 1.525341, Validation Acc: 43.08%\n",
            "EPOCH: 31 LR: 7.53620523774985e-05\n"
          ]
        },
        {
          "output_type": "stream",
          "name": "stderr",
          "text": [
            "100%|██████████| 3589/3589 [07:49<00:00,  7.65it/s]\n"
          ]
        },
        {
          "output_type": "stream",
          "name": "stdout",
          "text": [
            "Train Loss: 1.146821, Train Acc: 56.07%\n",
            "Epoch 31: Current LR = 2.0000584572761956e-07\n",
            "Epoch 31: Train Loss: 1.146821, Train Acc: 56.07%\n",
            "Epoch 31: Validation Loss: 1.533521, Validation Acc: 42.60%\n"
          ]
        }
      ],
      "source": [
        "\"\"\"\n",
        "Training the CNN Model.\n",
        "\n",
        "Steps:\n",
        "- Calls the model with a dropout rate.\n",
        "- Set up an SGD optimizer with momentum and weight decay\n",
        "- Set up a scheduler for learning rate.\n",
        "- Use CrossEntropyLoss for calculating the loss during  training and validation phases.\n",
        "\n",
        "For each epoch, the models prints Learning Rate, Train & Validation Loss and Train & Validation Acc. For example:\n",
        "EPOCH: 1 LR: 0.0030627992928527574\n",
        "100%|██████████| 3589/3589 [07:46<00:00,  7.70it/s]\n",
        "Train Loss: 1.800379, Train Acc: 24.71%\n",
        "Saved best model at epoch 1 with validation loss: 1.7877307222255885\n",
        "Epoch 1: Current LR = 0.0060001877632136335\n",
        "Epoch 1: Train Loss: 1.800379, Train Acc: 24.71%\n",
        "Epoch 1: Validation Loss: 1.787731, Validation Acc: 25.38%\n",
        "\n",
        "It also saves the best model. The best model has the lowest validation loss.\n",
        "\"\"\"\n",
        "epochs = 32  # Define the number of epochs for training\n",
        "\n",
        "# Compile the model using an appropriate loss function, optimizer, and evaluation metric\n",
        "model = Net(dropout_rate=0.5)\n",
        "model.to(device)\n",
        "optimizer = optim.SGD(model.parameters(), lr=0.002, momentum=0.9, weight_decay=0.0009)\n",
        "scheduler = torch.optim.lr_scheduler.OneCycleLR(optimizer, max_lr=0.02, steps_per_epoch=len(training_generator), pct_start=0.2, div_factor=10, cycle_momentum=False, epochs=epochs)\n",
        "criterion = nn.CrossEntropyLoss()\n",
        "\n",
        "# Variables to store training and validation metrics\n",
        "train_loss = []\n",
        "train_acc = []\n",
        "valid_loss = []\n",
        "valid_acc = []\n",
        "\n",
        "# Variable to store the best validation loss\n",
        "best_valid_loss = float('inf')\n",
        "\n",
        "# Training and Validation Loop\n",
        "for epoch in range(epochs):\n",
        "\n",
        "    print(f\"EPOCH: {epoch} LR: {scheduler.get_last_lr()[0]}\")\n",
        "    train_loss_epoch, train_acc_epoch = train(model, training_generator, optimizer, scheduler, criterion)\n",
        "    current_lr = get_lr(optimizer)  # Get the current learning rate after training\n",
        "    valid_loss_epoch, valid_acc_epoch = validate(model, validation_generator, criterion)\n",
        "\n",
        "    # Append metrics to lists for Plotly\n",
        "    train_loss.append(train_loss_epoch)\n",
        "    train_acc.append(train_acc_epoch)\n",
        "    valid_loss.append(valid_loss_epoch)\n",
        "    valid_acc.append(valid_acc_epoch)\n",
        "\n",
        "    # Check if the current validation loss is the lowest we've seen and save the model if it is\n",
        "    if valid_loss_epoch < best_valid_loss:\n",
        "        best_valid_loss = valid_loss_epoch\n",
        "        torch.save(model.state_dict(), 'best_model.pth')\n",
        "        print(f\"Saved best model at epoch {epoch} with validation loss: {valid_loss_epoch}\")\n",
        "\n",
        "    # Print training and validation results along with the current learning rate\n",
        "    print(f\"Epoch {epoch}: Current LR = {current_lr}\")\n",
        "    print(f\"Epoch {epoch}: Train Loss: {train_loss_epoch:.6f}, Train Acc: {train_acc_epoch:.2f}%\")\n",
        "    print(f\"Epoch {epoch}: Validation Loss: {valid_loss_epoch:.6f}, Validation Acc: {valid_acc_epoch:.2f}%\")"
      ]
    },
    {
      "cell_type": "markdown",
      "metadata": {
        "id": "KBroGekWOR4p"
      },
      "source": [
        "##Evaluate the model's performance on the validation and testing sets.\n",
        "\n"
      ]
    },
    {
      "cell_type": "code",
      "execution_count": null,
      "metadata": {
        "id": "oL9KUqPYOPgK",
        "colab": {
          "base_uri": "https://localhost:8080/"
        },
        "outputId": "75d79f90-721a-4d40-b39c-2295f15163ff"
      },
      "outputs": [
        {
          "output_type": "stream",
          "name": "stdout",
          "text": [
            "Evaluating the best model on test data...\n",
            "Test Loss: 1.545194, Test Acc: 43.02%\n"
          ]
        }
      ],
      "source": [
        "# Load the best saved model\n",
        "model.load_state_dict(torch.load('best_model.pth'))\n",
        "model.to(device)\n",
        "\n",
        "# Evaluate on test data\n",
        "print(\"Evaluating the best model on test data...\")\n",
        "test(model, test_generator, criterion)\n"
      ]
    },
    {
      "cell_type": "markdown",
      "metadata": {
        "id": "3bz2FUXSJ7F4"
      },
      "source": [
        "##Plot the training and validation loss and accuracy curves, using Plotly.\n",
        "\n",
        "Generates a plot displaying training and validation loss and training and validation accuracy PER EPOCH.\n"
      ]
    },
    {
      "cell_type": "code",
      "source": [
        "# Assuming 'train_loss', 'train_acc', 'valid_loss', 'valid_acc' are lists of metrics recorded during training\n",
        "fig = go.Figure()\n",
        "\n",
        "# Add traces for loss\n",
        "fig.add_trace(go.Scatter(x=list(range(epochs)), y=train_loss, mode='lines+markers', name='Training Loss'))\n",
        "fig.add_trace(go.Scatter(x=list(range(epochs)), y=valid_loss, mode='lines+markers', name='Validation Loss'))\n",
        "\n",
        "# Add traces for accuracy\n",
        "fig.add_trace(go.Scatter(x=list(range(epochs)), y=train_acc, mode='lines+markers', name='Training Accuracy', yaxis='y2'))\n",
        "fig.add_trace(go.Scatter(x=list(range(epochs)), y=valid_acc, mode='lines+markers', name='Validation Accuracy', yaxis='y2'))\n",
        "\n",
        "# Create axis objects\n",
        "fig.update_layout(\n",
        "    xaxis=dict(title='Epoch'),\n",
        "    yaxis=dict(title='Loss'),\n",
        "    yaxis2=dict(title='Accuracy', overlaying='y', side='right'),\n",
        "    title='Training and Validation Loss and Accuracy'\n",
        ")\n",
        "\n",
        "# Show plot\n",
        "fig.show()\n"
      ],
      "metadata": {
        "colab": {
          "base_uri": "https://localhost:8080/",
          "height": 542
        },
        "id": "IdPque0u5xS9",
        "outputId": "4a3b92b4-8671-4acc-ee38-25baea9a1432"
      },
      "execution_count": null,
      "outputs": [
        {
          "output_type": "display_data",
          "data": {
            "text/html": [
              "<html>\n",
              "<head><meta charset=\"utf-8\" /></head>\n",
              "<body>\n",
              "    <div>            <script src=\"https://cdnjs.cloudflare.com/ajax/libs/mathjax/2.7.5/MathJax.js?config=TeX-AMS-MML_SVG\"></script><script type=\"text/javascript\">if (window.MathJax && window.MathJax.Hub && window.MathJax.Hub.Config) {window.MathJax.Hub.Config({SVG: {font: \"STIX-Web\"}});}</script>                <script type=\"text/javascript\">window.PlotlyConfig = {MathJaxConfig: 'local'};</script>\n",
              "        <script charset=\"utf-8\" src=\"https://cdn.plot.ly/plotly-2.24.1.min.js\"></script>                <div id=\"916d3adb-06e8-41f6-bde8-7495a70a4674\" class=\"plotly-graph-div\" style=\"height:525px; width:100%;\"></div>            <script type=\"text/javascript\">                                    window.PLOTLYENV=window.PLOTLYENV || {};                                    if (document.getElementById(\"916d3adb-06e8-41f6-bde8-7495a70a4674\")) {                    Plotly.newPlot(                        \"916d3adb-06e8-41f6-bde8-7495a70a4674\",                        [{\"mode\":\"lines+markers\",\"name\":\"Training Loss\",\"x\":[0,1,2,3,4,5,6,7,8,9,10,11,12,13,14,15,16,17,18,19,20,21,22,23,24,25,26,27,28,29,30,31],\"y\":[1.8119687573363037,1.798966400900336,1.7904938476003953,1.785000176973149,1.7815914075997057,1.780466187694472,1.7772175257635767,1.7734763688049997,1.770638619302275,1.7130139431072564,1.6552379212030033,1.6261852306056135,1.5633789628254202,1.520923858417645,1.4745023460998015,1.4548058226999383,1.4296430107709523,1.4017199332516783,1.382727794492434,1.3637593891435296,1.3434992858412937,1.321133249381951,1.306346937171195,1.2908799156617174,1.2631876067252967,1.2489698456336145,1.226996744399816,1.2053280311827874,1.1883606246235843,1.1669433569635776,1.1484839654825763,1.146821004620632],\"type\":\"scatter\"},{\"mode\":\"lines+markers\",\"name\":\"Validation Loss\",\"x\":[0,1,2,3,4,5,6,7,8,9,10,11,12,13,14,15,16,17,18,19,20,21,22,23,24,25,26,27,28,29,30,31],\"y\":[1.806583747035411,1.8021598451652612,1.783359913624209,1.776558661248477,1.7660432074277066,1.7802442429060394,1.7707746326259621,1.7625051227072566,1.7455400016100742,2.031901079987099,1.8110541782294192,1.8108612649424836,1.7848073796333874,1.7789561860014442,1.9159533066845154,1.8084545126205562,1.6632655035944983,2.0540361409728938,1.6054686443311865,1.6576492720032587,1.84378868301621,1.675941806726307,1.6730795679219848,1.6191036819349685,1.6076436642814584,1.7166275185572277,1.5856514042098167,1.6052254883775732,1.544785437180364,1.5698300086310286,1.5253409468517005,1.5335212160059497],\"type\":\"scatter\"},{\"mode\":\"lines+markers\",\"name\":\"Training Accuracy\",\"x\":[0,1,2,3,4,5,6,7,8,9,10,11,12,13,14,15,16,17,18,19,20,21,22,23,24,25,26,27,28,29,30,31],\"y\":[23.887979379288726,24.643839910829357,25.406666898881884,25.653976105054163,25.681841931101744,25.68880838761364,26.256574593333102,26.329722386708,26.528266397297013,30.098575359643316,32.43233829112822,34.17395241910202,36.55299731791424,38.28416176112021,40.24870249747466,41.78132293009161,43.195513602006336,44.094186492040826,44.95802709951583,45.71737085931241,46.69615799923369,47.92225434532725,48.312375909993385,49.280713365146816,50.50680971124038,50.917830645442194,51.88268487233969,53.1714793270403,53.878574662997664,55.066355498275804,55.78041729074506,56.06952523598871],\"yaxis\":\"y2\",\"type\":\"scatter\"},{\"mode\":\"lines+markers\",\"name\":\"Validation Accuracy\",\"x\":[0,1,2,3,4,5,6,7,8,9,10,11,12,13,14,15,16,17,18,19,20,21,22,23,24,25,26,27,28,29,30,31],\"y\":[24.60295346893285,25.522429646140985,26.609083310114237,25.912510448592922,27.194204513792144,26.776260796879352,25.856784619671217,27.24993034271385,28.057954862078574,20.42351629980496,28.921705210365005,30.175536361103372,30.844246308163832,28.11368069100028,30.788520479242127,31.65227082752856,35.41376427974366,33.35190860964057,37.72638617999443,36.528280858177766,31.067149623850653,38.75731401504597,39.175257731958766,39.008080245193646,40.06687099470604,40.289774310392865,39.6210643633324,41.06993591529674,42.46308163833937,42.65812203956534,43.07606575647813,42.60239621064363],\"yaxis\":\"y2\",\"type\":\"scatter\"}],                        {\"template\":{\"data\":{\"histogram2dcontour\":[{\"type\":\"histogram2dcontour\",\"colorbar\":{\"outlinewidth\":0,\"ticks\":\"\"},\"colorscale\":[[0.0,\"#0d0887\"],[0.1111111111111111,\"#46039f\"],[0.2222222222222222,\"#7201a8\"],[0.3333333333333333,\"#9c179e\"],[0.4444444444444444,\"#bd3786\"],[0.5555555555555556,\"#d8576b\"],[0.6666666666666666,\"#ed7953\"],[0.7777777777777778,\"#fb9f3a\"],[0.8888888888888888,\"#fdca26\"],[1.0,\"#f0f921\"]]}],\"choropleth\":[{\"type\":\"choropleth\",\"colorbar\":{\"outlinewidth\":0,\"ticks\":\"\"}}],\"histogram2d\":[{\"type\":\"histogram2d\",\"colorbar\":{\"outlinewidth\":0,\"ticks\":\"\"},\"colorscale\":[[0.0,\"#0d0887\"],[0.1111111111111111,\"#46039f\"],[0.2222222222222222,\"#7201a8\"],[0.3333333333333333,\"#9c179e\"],[0.4444444444444444,\"#bd3786\"],[0.5555555555555556,\"#d8576b\"],[0.6666666666666666,\"#ed7953\"],[0.7777777777777778,\"#fb9f3a\"],[0.8888888888888888,\"#fdca26\"],[1.0,\"#f0f921\"]]}],\"heatmap\":[{\"type\":\"heatmap\",\"colorbar\":{\"outlinewidth\":0,\"ticks\":\"\"},\"colorscale\":[[0.0,\"#0d0887\"],[0.1111111111111111,\"#46039f\"],[0.2222222222222222,\"#7201a8\"],[0.3333333333333333,\"#9c179e\"],[0.4444444444444444,\"#bd3786\"],[0.5555555555555556,\"#d8576b\"],[0.6666666666666666,\"#ed7953\"],[0.7777777777777778,\"#fb9f3a\"],[0.8888888888888888,\"#fdca26\"],[1.0,\"#f0f921\"]]}],\"heatmapgl\":[{\"type\":\"heatmapgl\",\"colorbar\":{\"outlinewidth\":0,\"ticks\":\"\"},\"colorscale\":[[0.0,\"#0d0887\"],[0.1111111111111111,\"#46039f\"],[0.2222222222222222,\"#7201a8\"],[0.3333333333333333,\"#9c179e\"],[0.4444444444444444,\"#bd3786\"],[0.5555555555555556,\"#d8576b\"],[0.6666666666666666,\"#ed7953\"],[0.7777777777777778,\"#fb9f3a\"],[0.8888888888888888,\"#fdca26\"],[1.0,\"#f0f921\"]]}],\"contourcarpet\":[{\"type\":\"contourcarpet\",\"colorbar\":{\"outlinewidth\":0,\"ticks\":\"\"}}],\"contour\":[{\"type\":\"contour\",\"colorbar\":{\"outlinewidth\":0,\"ticks\":\"\"},\"colorscale\":[[0.0,\"#0d0887\"],[0.1111111111111111,\"#46039f\"],[0.2222222222222222,\"#7201a8\"],[0.3333333333333333,\"#9c179e\"],[0.4444444444444444,\"#bd3786\"],[0.5555555555555556,\"#d8576b\"],[0.6666666666666666,\"#ed7953\"],[0.7777777777777778,\"#fb9f3a\"],[0.8888888888888888,\"#fdca26\"],[1.0,\"#f0f921\"]]}],\"surface\":[{\"type\":\"surface\",\"colorbar\":{\"outlinewidth\":0,\"ticks\":\"\"},\"colorscale\":[[0.0,\"#0d0887\"],[0.1111111111111111,\"#46039f\"],[0.2222222222222222,\"#7201a8\"],[0.3333333333333333,\"#9c179e\"],[0.4444444444444444,\"#bd3786\"],[0.5555555555555556,\"#d8576b\"],[0.6666666666666666,\"#ed7953\"],[0.7777777777777778,\"#fb9f3a\"],[0.8888888888888888,\"#fdca26\"],[1.0,\"#f0f921\"]]}],\"mesh3d\":[{\"type\":\"mesh3d\",\"colorbar\":{\"outlinewidth\":0,\"ticks\":\"\"}}],\"scatter\":[{\"fillpattern\":{\"fillmode\":\"overlay\",\"size\":10,\"solidity\":0.2},\"type\":\"scatter\"}],\"parcoords\":[{\"type\":\"parcoords\",\"line\":{\"colorbar\":{\"outlinewidth\":0,\"ticks\":\"\"}}}],\"scatterpolargl\":[{\"type\":\"scatterpolargl\",\"marker\":{\"colorbar\":{\"outlinewidth\":0,\"ticks\":\"\"}}}],\"bar\":[{\"error_x\":{\"color\":\"#2a3f5f\"},\"error_y\":{\"color\":\"#2a3f5f\"},\"marker\":{\"line\":{\"color\":\"#E5ECF6\",\"width\":0.5},\"pattern\":{\"fillmode\":\"overlay\",\"size\":10,\"solidity\":0.2}},\"type\":\"bar\"}],\"scattergeo\":[{\"type\":\"scattergeo\",\"marker\":{\"colorbar\":{\"outlinewidth\":0,\"ticks\":\"\"}}}],\"scatterpolar\":[{\"type\":\"scatterpolar\",\"marker\":{\"colorbar\":{\"outlinewidth\":0,\"ticks\":\"\"}}}],\"histogram\":[{\"marker\":{\"pattern\":{\"fillmode\":\"overlay\",\"size\":10,\"solidity\":0.2}},\"type\":\"histogram\"}],\"scattergl\":[{\"type\":\"scattergl\",\"marker\":{\"colorbar\":{\"outlinewidth\":0,\"ticks\":\"\"}}}],\"scatter3d\":[{\"type\":\"scatter3d\",\"line\":{\"colorbar\":{\"outlinewidth\":0,\"ticks\":\"\"}},\"marker\":{\"colorbar\":{\"outlinewidth\":0,\"ticks\":\"\"}}}],\"scattermapbox\":[{\"type\":\"scattermapbox\",\"marker\":{\"colorbar\":{\"outlinewidth\":0,\"ticks\":\"\"}}}],\"scatterternary\":[{\"type\":\"scatterternary\",\"marker\":{\"colorbar\":{\"outlinewidth\":0,\"ticks\":\"\"}}}],\"scattercarpet\":[{\"type\":\"scattercarpet\",\"marker\":{\"colorbar\":{\"outlinewidth\":0,\"ticks\":\"\"}}}],\"carpet\":[{\"aaxis\":{\"endlinecolor\":\"#2a3f5f\",\"gridcolor\":\"white\",\"linecolor\":\"white\",\"minorgridcolor\":\"white\",\"startlinecolor\":\"#2a3f5f\"},\"baxis\":{\"endlinecolor\":\"#2a3f5f\",\"gridcolor\":\"white\",\"linecolor\":\"white\",\"minorgridcolor\":\"white\",\"startlinecolor\":\"#2a3f5f\"},\"type\":\"carpet\"}],\"table\":[{\"cells\":{\"fill\":{\"color\":\"#EBF0F8\"},\"line\":{\"color\":\"white\"}},\"header\":{\"fill\":{\"color\":\"#C8D4E3\"},\"line\":{\"color\":\"white\"}},\"type\":\"table\"}],\"barpolar\":[{\"marker\":{\"line\":{\"color\":\"#E5ECF6\",\"width\":0.5},\"pattern\":{\"fillmode\":\"overlay\",\"size\":10,\"solidity\":0.2}},\"type\":\"barpolar\"}],\"pie\":[{\"automargin\":true,\"type\":\"pie\"}]},\"layout\":{\"autotypenumbers\":\"strict\",\"colorway\":[\"#636efa\",\"#EF553B\",\"#00cc96\",\"#ab63fa\",\"#FFA15A\",\"#19d3f3\",\"#FF6692\",\"#B6E880\",\"#FF97FF\",\"#FECB52\"],\"font\":{\"color\":\"#2a3f5f\"},\"hovermode\":\"closest\",\"hoverlabel\":{\"align\":\"left\"},\"paper_bgcolor\":\"white\",\"plot_bgcolor\":\"#E5ECF6\",\"polar\":{\"bgcolor\":\"#E5ECF6\",\"angularaxis\":{\"gridcolor\":\"white\",\"linecolor\":\"white\",\"ticks\":\"\"},\"radialaxis\":{\"gridcolor\":\"white\",\"linecolor\":\"white\",\"ticks\":\"\"}},\"ternary\":{\"bgcolor\":\"#E5ECF6\",\"aaxis\":{\"gridcolor\":\"white\",\"linecolor\":\"white\",\"ticks\":\"\"},\"baxis\":{\"gridcolor\":\"white\",\"linecolor\":\"white\",\"ticks\":\"\"},\"caxis\":{\"gridcolor\":\"white\",\"linecolor\":\"white\",\"ticks\":\"\"}},\"coloraxis\":{\"colorbar\":{\"outlinewidth\":0,\"ticks\":\"\"}},\"colorscale\":{\"sequential\":[[0.0,\"#0d0887\"],[0.1111111111111111,\"#46039f\"],[0.2222222222222222,\"#7201a8\"],[0.3333333333333333,\"#9c179e\"],[0.4444444444444444,\"#bd3786\"],[0.5555555555555556,\"#d8576b\"],[0.6666666666666666,\"#ed7953\"],[0.7777777777777778,\"#fb9f3a\"],[0.8888888888888888,\"#fdca26\"],[1.0,\"#f0f921\"]],\"sequentialminus\":[[0.0,\"#0d0887\"],[0.1111111111111111,\"#46039f\"],[0.2222222222222222,\"#7201a8\"],[0.3333333333333333,\"#9c179e\"],[0.4444444444444444,\"#bd3786\"],[0.5555555555555556,\"#d8576b\"],[0.6666666666666666,\"#ed7953\"],[0.7777777777777778,\"#fb9f3a\"],[0.8888888888888888,\"#fdca26\"],[1.0,\"#f0f921\"]],\"diverging\":[[0,\"#8e0152\"],[0.1,\"#c51b7d\"],[0.2,\"#de77ae\"],[0.3,\"#f1b6da\"],[0.4,\"#fde0ef\"],[0.5,\"#f7f7f7\"],[0.6,\"#e6f5d0\"],[0.7,\"#b8e186\"],[0.8,\"#7fbc41\"],[0.9,\"#4d9221\"],[1,\"#276419\"]]},\"xaxis\":{\"gridcolor\":\"white\",\"linecolor\":\"white\",\"ticks\":\"\",\"title\":{\"standoff\":15},\"zerolinecolor\":\"white\",\"automargin\":true,\"zerolinewidth\":2},\"yaxis\":{\"gridcolor\":\"white\",\"linecolor\":\"white\",\"ticks\":\"\",\"title\":{\"standoff\":15},\"zerolinecolor\":\"white\",\"automargin\":true,\"zerolinewidth\":2},\"scene\":{\"xaxis\":{\"backgroundcolor\":\"#E5ECF6\",\"gridcolor\":\"white\",\"linecolor\":\"white\",\"showbackground\":true,\"ticks\":\"\",\"zerolinecolor\":\"white\",\"gridwidth\":2},\"yaxis\":{\"backgroundcolor\":\"#E5ECF6\",\"gridcolor\":\"white\",\"linecolor\":\"white\",\"showbackground\":true,\"ticks\":\"\",\"zerolinecolor\":\"white\",\"gridwidth\":2},\"zaxis\":{\"backgroundcolor\":\"#E5ECF6\",\"gridcolor\":\"white\",\"linecolor\":\"white\",\"showbackground\":true,\"ticks\":\"\",\"zerolinecolor\":\"white\",\"gridwidth\":2}},\"shapedefaults\":{\"line\":{\"color\":\"#2a3f5f\"}},\"annotationdefaults\":{\"arrowcolor\":\"#2a3f5f\",\"arrowhead\":0,\"arrowwidth\":1},\"geo\":{\"bgcolor\":\"white\",\"landcolor\":\"#E5ECF6\",\"subunitcolor\":\"white\",\"showland\":true,\"showlakes\":true,\"lakecolor\":\"white\"},\"title\":{\"x\":0.05},\"mapbox\":{\"style\":\"light\"}}},\"yaxis2\":{\"title\":{\"text\":\"Accuracy\"},\"overlaying\":\"y\",\"side\":\"right\"},\"xaxis\":{\"title\":{\"text\":\"Epoch\"}},\"yaxis\":{\"title\":{\"text\":\"Loss\"}},\"title\":{\"text\":\"Training and Validation Loss and Accuracy\"}},                        {\"responsive\": true}                    ).then(function(){\n",
              "                            \n",
              "var gd = document.getElementById('916d3adb-06e8-41f6-bde8-7495a70a4674');\n",
              "var x = new MutationObserver(function (mutations, observer) {{\n",
              "        var display = window.getComputedStyle(gd).display;\n",
              "        if (!display || display === 'none') {{\n",
              "            console.log([gd, 'removed!']);\n",
              "            Plotly.purge(gd);\n",
              "            observer.disconnect();\n",
              "        }}\n",
              "}});\n",
              "\n",
              "// Listen for the removal of the full notebook cells\n",
              "var notebookContainer = gd.closest('#notebook-container');\n",
              "if (notebookContainer) {{\n",
              "    x.observe(notebookContainer, {childList: true});\n",
              "}}\n",
              "\n",
              "// Listen for the clearing of the current output cell\n",
              "var outputEl = gd.closest('.output');\n",
              "if (outputEl) {{\n",
              "    x.observe(outputEl, {childList: true});\n",
              "}}\n",
              "\n",
              "                        })                };                            </script>        </div>\n",
              "</body>\n",
              "</html>"
            ]
          },
          "metadata": {}
        }
      ]
    },
    {
      "cell_type": "markdown",
      "source": [
        "##Confusion Matrix\n",
        "\n",
        "\n",
        "\n"
      ],
      "metadata": {
        "id": "DCUSrQT4hMm1"
      }
    },
    {
      "cell_type": "code",
      "source": [
        "\"\"\"\n",
        "The get_all_preds function collects predictions from the CNN model for the entire dataset provided by a DataLoader.\n",
        "It goes through all the data in batches.\n",
        "For each batch it processes the images.\n",
        "Both the predictions and the actual labels from the batch are stored.\n",
        "As batches are processed, the predictions and labels are each added to an array, so at the end you have an array for predictions and one for labels.\n",
        "These arrays are used to create a confusion matrix.\n",
        "\"\"\"\n",
        "def get_all_preds(model, loader):\n",
        "    all_preds = torch.tensor([]).to(device)\n",
        "    all_labels = torch.tensor([]).to(device)\n",
        "\n",
        "    model.eval()\n",
        "    with torch.no_grad():\n",
        "        for batch in loader:\n",
        "            images, labels = batch\n",
        "            images, labels = images.to(device), labels.to(device)\n",
        "            outputs = model(images)\n",
        "            _, preds = torch.max(outputs, 1)\n",
        "            all_preds = torch.cat((all_preds, preds), dim=0)\n",
        "            all_labels = torch.cat((all_labels, labels), dim=0)\n",
        "\n",
        "    return all_preds.cpu().numpy(), all_labels.cpu().numpy()\n",
        "\n",
        "# Assuming test_generator is your DataLoader for the test set\n",
        "model.eval()  # Set the model to evaluation mode\n",
        "predictions, labels = get_all_preds(model, test_generator)\n",
        "\n",
        "# Generate the confusion matrix\n",
        "conf_mat = confusion_matrix(labels, predictions)\n",
        "fig, ax = plt.subplots(figsize=(10, 10))  # Set appropriate size for your matrix\n",
        "sns.heatmap(conf_mat, annot=True, fmt='d', ax=ax, cmap='Blues',\n",
        "            xticklabels=emotion_labels, yticklabels=emotion_labels)\n",
        "\n",
        "ax.set_xlabel('Predicted Labels')\n",
        "ax.set_ylabel('True Labels')\n",
        "ax.set_title('Confusion Matrix')\n",
        "plt.show()\n"
      ],
      "metadata": {
        "id": "EQ0s46CmGQEs",
        "colab": {
          "base_uri": "https://localhost:8080/",
          "height": 872
        },
        "outputId": "31e6b013-c2aa-4bed-8e5b-f66ac789c0e4"
      },
      "execution_count": null,
      "outputs": [
        {
          "output_type": "display_data",
          "data": {
            "text/plain": [
              "<Figure size 1000x1000 with 2 Axes>"
            ],
            "image/png": "[encoded data removed]"
          },
          "metadata": {}
        }
      ]
    }
  ],
  "metadata": {
    "colab": {
      "machine_shape": "hm",
      "provenance": []
    },
    "kaggle": {
      "accelerator": "gpu",
      "dataSources": [
        {
          "datasetId": 28577,
          "sourceId": 36420,
          "sourceType": "datasetVersion"
        }
      ],
      "dockerImageVersionId": 29928,
      "isGpuEnabled": true,
      "isInternetEnabled": false,
      "language": "python",
      "sourceType": "notebook"
    },
    "kernelspec": {
      "display_name": "Python 3",
      "name": "python3"
    },
    "language_info": {
      "codemirror_mode": {
        "name": "ipython",
        "version": 3
      },
      "file_extension": ".py",
      "mimetype": "text/x-python",
      "name": "python",
      "nbconvert_exporter": "python",
      "pygments_lexer": "ipython3",
      "version": "3.6.4"
    }
  },
  "nbformat": 4,
  "nbformat_minor": 0
}